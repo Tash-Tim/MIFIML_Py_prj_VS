{
 "cells": [
  {
   "cell_type": "markdown",
   "id": "73f3ebd1",
   "metadata": {},
   "source": [
    "# Модуль NumPy. Типы данных"
   ]
  },
  {
   "cell_type": "markdown",
   "id": "5b323a59",
   "metadata": {},
   "source": [
    "## 1. Типы данных"
   ]
  },
  {
   "cell_type": "markdown",
   "id": "970ecb7c",
   "metadata": {},
   "source": [
    "- Cуществует формула, позволяющая узнать максимальное число последовательностей из n 0 и 1:"
   ]
  },
  {
   "cell_type": "markdown",
   "id": "a089ffe7",
   "metadata": {},
   "source": [
    "N = 2 ** n"
   ]
  },
  {
   "cell_type": "markdown",
   "id": "87f7eca0",
   "metadata": {},
   "source": [
    "\n",
    "где n — число выделенных битов, N — максимально возможное при данном n число последовательностей, ** — оператор возведения в степень."
   ]
  },
  {
   "cell_type": "markdown",
   "id": "8e1f6816",
   "metadata": {},
   "source": [
    "- Чтобы узнать __максимальное целое положительное число__, которое можно уместить в  бит, необходимо воспользоваться следующей формулой:"
   ]
  },
  {
   "cell_type": "markdown",
   "id": "496f7bec",
   "metadata": {},
   "source": [
    "2 ** n - 1 "
   ]
  },
  {
   "cell_type": "markdown",
   "id": "3c599993",
   "metadata": {},
   "source": [
    "- Чтобы узнать минимальное и максимальное целое число существует две формулы:"
   ]
  },
  {
   "cell_type": "markdown",
   "id": "9418de95",
   "metadata": {},
   "source": [
    "Nmin = - (2 ** n) / 2"
   ]
  },
  {
   "cell_type": "markdown",
   "id": "d04d6e1d",
   "metadata": {},
   "source": [
    "Nmax = (2 ** n) / 2 - 1"
   ]
  },
  {
   "cell_type": "markdown",
   "id": "3742770c",
   "metadata": {},
   "source": [
    "## 2. Целочисленные типы данных в NumPy"
   ]
  },
  {
   "cell_type": "markdown",
   "id": "5ce11bd9",
   "metadata": {},
   "source": [
    "> Это тип данных с общим корнем int. Int может быть со следующими окончаниями: int8, int16, int32 и int64. Окончание типа данных в NumPy показывает, сколько битов памяти должно быть выделено для хранения переменной."
   ]
  },
  {
   "cell_type": "code",
   "execution_count": 50,
   "id": "2bdc98d7",
   "metadata": {},
   "outputs": [
    {
     "name": "stdout",
     "output_type": "stream",
     "text": [
      "25 <class 'numpy.int8'>\n"
     ]
    }
   ],
   "source": [
    "import numpy as np\n",
    "a = np.int8(25)\n",
    "print(a, type(a))"
   ]
  },
  {
   "cell_type": "markdown",
   "id": "937ff486",
   "metadata": {},
   "source": [
    "- Чтобы узнать границы int, можно воспользоваться функцией np.iinfo (__int info__):"
   ]
  },
  {
   "cell_type": "code",
   "execution_count": 51,
   "id": "2d8535e9",
   "metadata": {},
   "outputs": [
    {
     "data": {
      "text/plain": [
       "iinfo(min=-128, max=127, dtype=int8)"
      ]
     },
     "execution_count": 51,
     "metadata": {},
     "output_type": "execute_result"
    }
   ],
   "source": [
    "np.iinfo(np.int8)"
   ]
  },
  {
   "cell_type": "code",
   "execution_count": 52,
   "id": "cce774d8",
   "metadata": {},
   "outputs": [
    {
     "data": {
      "text/plain": [
       "iinfo(min=-128, max=127, dtype=int8)"
      ]
     },
     "execution_count": 52,
     "metadata": {},
     "output_type": "execute_result"
    }
   ],
   "source": [
    "np.iinfo(a)"
   ]
  },
  {
   "cell_type": "code",
   "execution_count": 53,
   "id": "6eed93cb",
   "metadata": {},
   "outputs": [
    {
     "name": "stdout",
     "output_type": "stream",
     "text": [
      "Machine parameters for int8\n",
      "---------------------------------------------------------------\n",
      "min = -128\n",
      "max = 127\n",
      "---------------------------------------------------------------\n",
      "\n"
     ]
    }
   ],
   "source": [
    "print(np.iinfo(np.int8))"
   ]
  },
  {
   "cell_type": "code",
   "execution_count": 54,
   "id": "e35bcf18",
   "metadata": {},
   "outputs": [
    {
     "data": {
      "text/plain": [
       "iinfo(min=-32768, max=32767, dtype=int16)"
      ]
     },
     "execution_count": 54,
     "metadata": {},
     "output_type": "execute_result"
    }
   ],
   "source": [
    "np.iinfo(np.int16)"
   ]
  },
  {
   "cell_type": "code",
   "execution_count": 55,
   "id": "b749db3b",
   "metadata": {},
   "outputs": [
    {
     "data": {
      "text/plain": [
       "iinfo(min=-2147483648, max=2147483647, dtype=int32)"
      ]
     },
     "execution_count": 55,
     "metadata": {},
     "output_type": "execute_result"
    }
   ],
   "source": [
    "np.iinfo(np.int32)"
   ]
  },
  {
   "cell_type": "code",
   "execution_count": 56,
   "id": "7ca624a3",
   "metadata": {},
   "outputs": [
    {
     "data": {
      "text/plain": [
       "iinfo(min=-9223372036854775808, max=9223372036854775807, dtype=int64)"
      ]
     },
     "execution_count": 56,
     "metadata": {},
     "output_type": "execute_result"
    }
   ],
   "source": [
    "np.iinfo(np.int64)"
   ]
  },
  {
   "cell_type": "markdown",
   "id": "694e4f12",
   "metadata": {},
   "source": [
    "> В NumPy доступны и беззнаковые целочисленные типы данных. Они имеют корень uint (unsigned int — беззнаковое целое). uint доступны также с выделением памяти в 8, 16, 32 и 64 бита. При этом максимально возможное число оказывается в два раза больше, чем для соответствующего int, поскольку отрицательные числа исключены из типа данных uint."
   ]
  },
  {
   "cell_type": "code",
   "execution_count": 57,
   "id": "e9b6ea68",
   "metadata": {},
   "outputs": [
    {
     "name": "stdout",
     "output_type": "stream",
     "text": [
      "124 <class 'numpy.uint8'>\n"
     ]
    },
    {
     "data": {
      "text/plain": [
       "iinfo(min=0, max=255, dtype=uint8)"
      ]
     },
     "execution_count": 57,
     "metadata": {},
     "output_type": "execute_result"
    }
   ],
   "source": [
    "b = np.uint8(124)\n",
    "print(b, type(b))\n",
    "np.iinfo(b)\n"
   ]
  },
  {
   "cell_type": "markdown",
   "id": "0fc81af9",
   "metadata": {},
   "source": [
    "### Несколько замечаний о приведении типов"
   ]
  },
  {
   "cell_type": "markdown",
   "id": "af08f9ad",
   "metadata": {},
   "source": [
    "1. Тип данных не сохранится, если просто присвоить переменной с заданным NumPy-типом данных новое значение: "
   ]
  },
  {
   "cell_type": "code",
   "execution_count": 58,
   "id": "f272e05d",
   "metadata": {},
   "outputs": [
    {
     "name": "stdout",
     "output_type": "stream",
     "text": [
      "1000\n",
      "<class 'numpy.int32'>\n",
      "2056\n",
      "<class 'int'>\n"
     ]
    }
   ],
   "source": [
    "a = np.int32(1000)\n",
    "print(a)\n",
    "print(type(a))\n",
    "a = 2056\n",
    "print(a)\n",
    "print(type(a))"
   ]
  },
  {
   "cell_type": "markdown",
   "id": "ccd03615",
   "metadata": {},
   "source": [
    "- Вместо этого следует снова указать нужный NumPy-тип данных:"
   ]
  },
  {
   "cell_type": "code",
   "execution_count": 59,
   "id": "99fca23f",
   "metadata": {},
   "outputs": [
    {
     "name": "stdout",
     "output_type": "stream",
     "text": [
      "1000\n",
      "<class 'numpy.int32'>\n",
      "2056\n",
      "<class 'numpy.int32'>\n"
     ]
    }
   ],
   "source": [
    "a = np.int32(1000)\n",
    "print(a)\n",
    "print(type(a))\n",
    "a = np.int32(2056)\n",
    "print(a)\n",
    "print(type(a))"
   ]
  },
  {
   "cell_type": "markdown",
   "id": "55ae7ac3",
   "metadata": {},
   "source": [
    "- А вот арифметические операции сохраняют NumPy-тип данных:"
   ]
  },
  {
   "cell_type": "code",
   "execution_count": 60,
   "id": "9b0b2b17",
   "metadata": {},
   "outputs": [
    {
     "name": "stdout",
     "output_type": "stream",
     "text": [
      "1025\n",
      "<class 'numpy.int32'>\n"
     ]
    }
   ],
   "source": [
    "a = np.int32(1000)\n",
    "b = a + 25 # 25-тип данных int\n",
    "print(b)\n",
    "print(type(b))\n"
   ]
  },
  {
   "cell_type": "markdown",
   "id": "6f7241de",
   "metadata": {},
   "source": [
    "> Примечание. В некоторых более старых версиях NumPy тип данных может измениться на int64 вместо ожидаемого int32. Это связано с тем, что число 25 может быть сначала преобразовано в NumPy-тип данных int (по умолчанию int64) перед сложением. Скорее всего, на практике вам не особо помешает такая особенность, однако о ней следует помнить, когда требуется хранить числа максимально оптимальным способом."
   ]
  },
  {
   "cell_type": "markdown",
   "id": "41738238",
   "metadata": {},
   "source": [
    "- Если операция проводится с двумя NumPy-типами с фиксированным объёмом памяти, в результате сохраняется наиболее «старший» тип:"
   ]
  },
  {
   "cell_type": "code",
   "execution_count": 61,
   "id": "365a4937",
   "metadata": {},
   "outputs": [
    {
     "name": "stdout",
     "output_type": "stream",
     "text": [
      "1025\n",
      "<class 'numpy.int32'>\n"
     ]
    }
   ],
   "source": [
    "a = np.int32(1000)\n",
    "b = np.int8(25)\n",
    "c = a + b\n",
    "print(c)\n",
    "print(type(c))"
   ]
  },
  {
   "cell_type": "markdown",
   "id": "148d1a45",
   "metadata": {},
   "source": [
    "2. Следует понимать, что произойдёт, если выделенной памяти для хранения переменной окажется недостаточно."
   ]
  },
  {
   "cell_type": "code",
   "execution_count": 62,
   "id": "72b216f9",
   "metadata": {},
   "outputs": [
    {
     "ename": "OverflowError",
     "evalue": "Python integer 260 out of bounds for int8",
     "output_type": "error",
     "traceback": [
      "\u001b[31m---------------------------------------------------------------------------\u001b[39m",
      "\u001b[31mOverflowError\u001b[39m                             Traceback (most recent call last)",
      "\u001b[36mCell\u001b[39m\u001b[36m \u001b[39m\u001b[32mIn[62]\u001b[39m\u001b[32m, line 1\u001b[39m\n\u001b[32m----> \u001b[39m\u001b[32m1\u001b[39m d = \u001b[43mnp\u001b[49m\u001b[43m.\u001b[49m\u001b[43mint8\u001b[49m\u001b[43m(\u001b[49m\u001b[32;43m260\u001b[39;49m\u001b[43m)\u001b[49m\n\u001b[32m      2\u001b[39m \u001b[38;5;28mprint\u001b[39m(d)\n",
      "\u001b[31mOverflowError\u001b[39m: Python integer 260 out of bounds for int8"
     ]
    }
   ],
   "source": [
    "d = np.int8(260)\n",
    "print(d)"
   ]
  },
  {
   "cell_type": "markdown",
   "id": "d8873931",
   "metadata": {},
   "source": [
    ">Если же при арифметических операциях происходит переполнение максимально выделенной памяти для типа, возникает предупреждение."
   ]
  },
  {
   "cell_type": "code",
   "execution_count": null,
   "id": "210d74a1",
   "metadata": {},
   "outputs": [
    {
     "name": "stdout",
     "output_type": "stream",
     "text": [
      "2147483610 2147483605\n",
      "-81\n"
     ]
    },
    {
     "name": "stderr",
     "output_type": "stream",
     "text": [
      "C:\\Users\\user\\AppData\\Local\\Temp\\ipykernel_14288\\1517369409.py:4: RuntimeWarning: overflow encountered in scalar add\n",
      "  print(a + b)\n"
     ]
    }
   ],
   "source": [
    "a = np.int32(2147483610)\n",
    "b = np.int32(2147483605)\n",
    "print(a, b)\n",
    "print(a + b)"
   ]
  },
  {
   "cell_type": "markdown",
   "id": "01154d27",
   "metadata": {},
   "source": [
    ">Чтобы избежать этой ошибки, вначале следовало преобразовать переменные к большему типу:"
   ]
  },
  {
   "cell_type": "code",
   "execution_count": null,
   "id": "810ae354",
   "metadata": {},
   "outputs": [
    {
     "name": "stdout",
     "output_type": "stream",
     "text": [
      "2147483610 2147483605\n",
      "4294967215\n"
     ]
    }
   ],
   "source": [
    "a = np.int32(2147483610)\n",
    "b = np.int32(2147483605)\n",
    "print(a, b)\n",
    "print(np.int64(a) + np.int64(b))"
   ]
  },
  {
   "cell_type": "markdown",
   "id": "96c7bfc1",
   "metadata": {},
   "source": [
    "## 3. Типы данных с плавающей точкой в NumPy"
   ]
  },
  {
   "cell_type": "markdown",
   "id": "0cb16aae",
   "metadata": {},
   "source": [
    "Помимо целых чисел, в NumPy, конечно, есть и дробные — float. Их названия строятся по тому же принципу: корень + объём памяти в битах. __Беззнаковых float нет__."
   ]
  },
  {
   "cell_type": "markdown",
   "id": "8cd11603",
   "metadata": {},
   "source": [
    ">Доступны следующие типы данных float: float16, float32, float64 (применяется по умолчанию, если объём памяти не задан дополнительно), float96, float128."
   ]
  },
  {
   "cell_type": "markdown",
   "id": "6e693686",
   "metadata": {},
   "source": [
    "- Чтобы узнать границы float и его точность, можно воспользоваться функцией np.finfo(<float тип данных>) (от англ. float info):"
   ]
  },
  {
   "cell_type": "code",
   "execution_count": 49,
   "id": "d0526408",
   "metadata": {},
   "outputs": [
    {
     "data": {
      "text/plain": [
       "finfo(resolution=0.001, min=-6.55040e+04, max=6.55040e+04, dtype=float16)"
      ]
     },
     "execution_count": 49,
     "metadata": {},
     "output_type": "execute_result"
    }
   ],
   "source": [
    "np.finfo(np.float16)"
   ]
  },
  {
   "cell_type": "code",
   "execution_count": 42,
   "id": "c1621ff5",
   "metadata": {},
   "outputs": [
    {
     "data": {
      "text/plain": [
       "finfo(resolution=1e-06, min=-3.4028235e+38, max=3.4028235e+38, dtype=float32)"
      ]
     },
     "execution_count": 42,
     "metadata": {},
     "output_type": "execute_result"
    }
   ],
   "source": [
    "np.finfo(np.float32)"
   ]
  },
  {
   "cell_type": "code",
   "execution_count": 43,
   "id": "b6833393",
   "metadata": {},
   "outputs": [
    {
     "data": {
      "text/plain": [
       "finfo(resolution=1e-15, min=-1.7976931348623157e+308, max=1.7976931348623157e+308, dtype=float64)"
      ]
     },
     "execution_count": 43,
     "metadata": {},
     "output_type": "execute_result"
    }
   ],
   "source": [
    "np.finfo(np.float64)"
   ]
  },
  {
   "cell_type": "markdown",
   "id": "a27f736c",
   "metadata": {},
   "source": [
    ">Resolution (от англ. «разрешение») в выводе finfo означает точность, с которой сохраняется десятичная часть числа в стандартном виде."
   ]
  },
  {
   "cell_type": "code",
   "execution_count": 63,
   "id": "b5079910",
   "metadata": {},
   "outputs": [
    {
     "name": "stdout",
     "output_type": "stream",
     "text": [
      "4.12\n",
      "4.13\n",
      "4.12\n",
      "4.125\n",
      "4.125\n"
     ]
    }
   ],
   "source": [
    "print(np.float16(4.12))\n",
    "print(np.float16(4.13))\n",
    "print(np.float16(4.123))\n",
    "print(np.float16(4.124))\n",
    "print(np.float16(4.125))"
   ]
  },
  {
   "cell_type": "markdown",
   "id": "a07f1d35",
   "metadata": {},
   "source": [
    "## 4. Дополнительные типы данных в NumPy"
   ]
  },
  {
   "cell_type": "code",
   "execution_count": null,
   "id": "713aee91",
   "metadata": {},
   "outputs": [],
   "source": [
    "# писок названий уникальных типов данных NumPy\n",
    "print(*sorted(map(str, set(np.sctypeDict.values()))), sep='\\n')"
   ]
  },
  {
   "cell_type": "code",
   "execution_count": 75,
   "id": "305b1cdf",
   "metadata": {},
   "outputs": [
    {
     "name": "stdout",
     "output_type": "stream",
     "text": [
      "<class 'bool'>\n",
      "<class 'numpy.bool'>\n",
      "<class 'numpy.bool'>\n",
      "True\n",
      "True\n",
      "True\n",
      "True\n",
      "False\n",
      "False\n"
     ]
    }
   ],
   "source": [
    "a = True\n",
    "print(type(a))\n",
    "a = np.bool(a)\n",
    "print(type(a))\n",
    "a = np.bool_(a)\n",
    "print(type(a))\n",
    "print(np.bool(True) == np.bool_(True))\n",
    "print(type(np.bool(True)) == type(np.bool_(True)))\n",
    "\n",
    "print(True == np.bool(True))\n",
    "print(True == np.bool_(True))\n",
    "print(type(True) == type(np.bool(True)))\n",
    "print(type(True) == type(np.bool_(True)))"
   ]
  },
  {
   "cell_type": "code",
   "execution_count": 77,
   "id": "405cb380",
   "metadata": {},
   "outputs": [
    {
     "name": "stdout",
     "output_type": "stream",
     "text": [
      "<class 'str'>\n",
      "<class 'str'>\n",
      "<class 'numpy.str_'>\n"
     ]
    }
   ],
   "source": [
    "a = \"Hello world!\"\n",
    "print(type(a))\n",
    "#a = np.str(a)\n",
    "print(type(a))\n",
    "a = np.str_(a)\n",
    "print(type(a))"
   ]
  },
  {
   "cell_type": "code",
   "execution_count": null,
   "id": "e255bb71",
   "metadata": {},
   "outputs": [],
   "source": [
    "print(np.uint8(-456))"
   ]
  }
 ],
 "metadata": {
  "kernelspec": {
   "display_name": "Python 3",
   "language": "python",
   "name": "python3"
  },
  "language_info": {
   "codemirror_mode": {
    "name": "ipython",
    "version": 3
   },
   "file_extension": ".py",
   "mimetype": "text/x-python",
   "name": "python",
   "nbconvert_exporter": "python",
   "pygments_lexer": "ipython3",
   "version": "3.13.1"
  }
 },
 "nbformat": 4,
 "nbformat_minor": 5
}

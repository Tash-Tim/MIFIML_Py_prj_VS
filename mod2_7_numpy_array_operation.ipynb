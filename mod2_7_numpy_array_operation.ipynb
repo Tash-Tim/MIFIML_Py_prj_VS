{
 "cells": [
  {
   "cell_type": "markdown",
   "id": "b9289053",
   "metadata": {},
   "source": [
    "# Модуль NumPy. Действия с массивами"
   ]
  },
  {
   "cell_type": "markdown",
   "id": "e9e151df",
   "metadata": {},
   "source": [
    "## Изменение формы массива"
   ]
  },
  {
   "cell_type": "code",
   "execution_count": 2,
   "id": "bceebfc4",
   "metadata": {},
   "outputs": [
    {
     "name": "stdout",
     "output_type": "stream",
     "text": [
      "[0 1 2 3 4 5 6 7]\n"
     ]
    }
   ],
   "source": [
    "import numpy as np\n",
    "\n",
    "arr = np.arange(8)\n",
    "print(arr)"
   ]
  },
  {
   "cell_type": "code",
   "execution_count": 3,
   "id": "9d1cea93",
   "metadata": {},
   "outputs": [
    {
     "name": "stdout",
     "output_type": "stream",
     "text": [
      "[[0 1 2 3]\n",
      " [4 5 6 7]]\n"
     ]
    }
   ],
   "source": [
    "arr.shape = (2, 4)\n",
    "print(arr) "
   ]
  },
  {
   "cell_type": "code",
   "execution_count": 4,
   "id": "dee550a8",
   "metadata": {},
   "outputs": [
    {
     "name": "stdout",
     "output_type": "stream",
     "text": [
      "[0 1 2 3 4 5 6 7]\n",
      "[[0 1 2 3]\n",
      " [4 5 6 7]]\n"
     ]
    }
   ],
   "source": [
    "arr = np.arange(8)\n",
    "arr_new = arr.reshape(2, 4)\n",
    "print(arr)\n",
    "print(arr_new)"
   ]
  },
  {
   "cell_type": "markdown",
   "id": "3e84ddf1",
   "metadata": {},
   "source": [
    "- Присвоение нового значения атрибуту __shape__ изменяет тот массив, с которым производится действие.\n",
    "- Чтобы оставить исходный массив без изменений и дополнительно получить новый массив новой формы, нужно использовать функцию __reshape__. Она также принимает в качестве аргумента кортеж из чисел для формы, __но возвращает новый массив, а не изменяет исходный__"
   ]
  },
  {
   "cell_type": "code",
   "execution_count": 5,
   "id": "09e496a0",
   "metadata": {},
   "outputs": [
    {
     "name": "stdout",
     "output_type": "stream",
     "text": [
      "[0 1 2 3 4 5 6 7]\n",
      "[[0 1 2 3]\n",
      " [4 5 6 7]]\n",
      "[[0 2 4 6]\n",
      " [1 3 5 7]]\n"
     ]
    }
   ],
   "source": [
    "arr = np.arange(8)\n",
    "arr_c = arr.reshape((2,4,), order='C') # roder = 'C' - задан по умолчанию\n",
    "arr_f = arr.reshape((2,4,), order='F')\n",
    "print(arr)\n",
    "print(arr_c)\n",
    "print(arr_f)"
   ]
  },
  {
   "cell_type": "code",
   "execution_count": 6,
   "id": "7d5aad2f",
   "metadata": {},
   "outputs": [
    {
     "name": "stdout",
     "output_type": "stream",
     "text": [
      "[[0 1 2 3]\n",
      " [4 5 6 7]]\n",
      "(2, 4)\n",
      "\n",
      "[[0 4]\n",
      " [1 5]\n",
      " [2 6]\n",
      " [3 7]]\n",
      "(4, 2)\n"
     ]
    }
   ],
   "source": [
    "arr = np.arange(8)\n",
    "arr.shape = (2, 4)\n",
    "print(arr)\n",
    "print(arr.shape)\n",
    "print()\n",
    "arr_t = arr.transpose()\n",
    "print(arr_t)\n",
    "print(arr_t.shape)"
   ]
  },
  {
   "cell_type": "code",
   "execution_count": 7,
   "id": "836d95d1",
   "metadata": {},
   "outputs": [
    {
     "name": "stdout",
     "output_type": "stream",
     "text": [
      "(8,)\n",
      "(8,)\n"
     ]
    }
   ],
   "source": [
    "arr = np.arange(8)\n",
    "print(arr.shape)\n",
    "arr_t = arr.transpose()\n",
    "print(arr_t.shape)"
   ]
  },
  {
   "cell_type": "markdown",
   "id": "ccf108e6",
   "metadata": {},
   "source": [
    "## Индексы и срезы в массивах"
   ]
  },
  {
   "cell_type": "code",
   "execution_count": 8,
   "id": "17aee0de",
   "metadata": {},
   "outputs": [
    {
     "name": "stdout",
     "output_type": "stream",
     "text": [
      "[1.  1.2 1.4 1.6 1.8 2. ]\n"
     ]
    }
   ],
   "source": [
    "arr =np.linspace(1, 2, 6)\n",
    "print(arr)"
   ]
  },
  {
   "cell_type": "code",
   "execution_count": 9,
   "id": "b51e8ccc",
   "metadata": {},
   "outputs": [
    {
     "name": "stdout",
     "output_type": "stream",
     "text": [
      "1.4\n",
      "[1.4 1.6]\n",
      "[2.  1.8 1.6 1.4 1.2 1. ]\n"
     ]
    }
   ],
   "source": [
    "print(arr[2])\n",
    "print(arr[2:4])\n",
    "print(arr[::-1])"
   ]
  },
  {
   "cell_type": "markdown",
   "id": "189350d1",
   "metadata": {},
   "source": [
    "- многомерный массив"
   ]
  },
  {
   "cell_type": "code",
   "execution_count": 17,
   "id": "1e2c5fe7",
   "metadata": {},
   "outputs": [
    {
     "name": "stdout",
     "output_type": "stream",
     "text": [
      "[[0.  0.5 1.  1.5]\n",
      " [2.  2.5 3.  3.5]\n",
      " [4.  4.5 5.  5.5]]\n"
     ]
    }
   ],
   "source": [
    "nd_arr = np.linspace(0, 6, 12, endpoint=False).reshape(3, 4)\n",
    "print(nd_arr)"
   ]
  },
  {
   "cell_type": "code",
   "execution_count": 57,
   "id": "1c0abf75",
   "metadata": {},
   "outputs": [
    {
     "name": "stdout",
     "output_type": "stream",
     "text": [
      "[[0.  2.  4. ]\n",
      " [0.5 2.5 4.5]\n",
      " [1.  3.  5. ]\n",
      " [1.5 3.5 5.5]]\n"
     ]
    }
   ],
   "source": [
    "print(nd_arr.transpose())"
   ]
  },
  {
   "cell_type": "code",
   "execution_count": 18,
   "id": "24d99c6e",
   "metadata": {},
   "outputs": [
    {
     "name": "stdout",
     "output_type": "stream",
     "text": [
      "3.0\n"
     ]
    }
   ],
   "source": [
    "print(nd_arr[1, 2])"
   ]
  },
  {
   "cell_type": "code",
   "execution_count": 23,
   "id": "8c7e200e",
   "metadata": {},
   "outputs": [
    {
     "name": "stdout",
     "output_type": "stream",
     "text": [
      "[1. 3.]\n"
     ]
    }
   ],
   "source": [
    "print(nd_arr[:2, 2])"
   ]
  },
  {
   "cell_type": "code",
   "execution_count": 25,
   "id": "fbfa774c",
   "metadata": {},
   "outputs": [
    {
     "name": "stdout",
     "output_type": "stream",
     "text": [
      "[[3.  3.5]\n",
      " [5.  5.5]]\n"
     ]
    }
   ],
   "source": [
    "print(nd_arr[1:, 2:])"
   ]
  },
  {
   "cell_type": "code",
   "execution_count": 38,
   "id": "7dc6b25a",
   "metadata": {},
   "outputs": [
    {
     "name": "stdout",
     "output_type": "stream",
     "text": [
      "[4.  4.5 5.  5.5]\n"
     ]
    }
   ],
   "source": [
    "print(nd_arr[2]) # берётся только 2-я по индексу строка"
   ]
  },
  {
   "cell_type": "code",
   "execution_count": 37,
   "id": "9d8f4aa5",
   "metadata": {},
   "outputs": [
    {
     "name": "stdout",
     "output_type": "stream",
     "text": [
      "[1. 3. 5.]\n"
     ]
    }
   ],
   "source": [
    "print(nd_arr[:,2]) # берётся только 2-й по индексу столбец"
   ]
  },
  {
   "cell_type": "code",
   "execution_count": 39,
   "id": "dde5e5e7",
   "metadata": {},
   "outputs": [
    {
     "name": "stdout",
     "output_type": "stream",
     "text": [
      "[[0.  0.5 1.  1.5]\n",
      " [2.  2.5 3.  3.5]]\n"
     ]
    }
   ],
   "source": [
    "print(nd_arr[:2]) # берётся срез всех строк с 0 по 1 индексу "
   ]
  },
  {
   "cell_type": "code",
   "execution_count": 40,
   "id": "51f3efa6",
   "metadata": {},
   "outputs": [
    {
     "name": "stdout",
     "output_type": "stream",
     "text": [
      "[[0.  0.5]\n",
      " [2.  2.5]\n",
      " [4.  4.5]]\n"
     ]
    }
   ],
   "source": [
    "print(nd_arr[:,:2]) # берётся срез всех столбцов с 0 по 1 индексу "
   ]
  },
  {
   "cell_type": "markdown",
   "id": "11684189",
   "metadata": {},
   "source": [
    "## Сортировка одномерных массивов"
   ]
  },
  {
   "cell_type": "markdown",
   "id": "f509e584",
   "metadata": {},
   "source": [
    "- 1-й способ. Возвращение нового сортированного масива"
   ]
  },
  {
   "cell_type": "code",
   "execution_count": 66,
   "id": "2d89bd93",
   "metadata": {},
   "outputs": [
    {
     "name": "stdout",
     "output_type": "stream",
     "text": [
      "[14 34 16 47 14 20  1 18 46 23]\n",
      "[ 1 14 14 16 18 20 23 34 46 47]\n"
     ]
    }
   ],
   "source": [
    "arr = np.random.randint(50, size=10)\n",
    "print(arr)\n",
    "\n",
    "arr_sort = np.sort(arr)\n",
    "print(arr_sort)"
   ]
  },
  {
   "cell_type": "markdown",
   "id": "146e1656",
   "metadata": {},
   "source": [
    "- 2-й способ. Сортирует исходный массив"
   ]
  },
  {
   "cell_type": "code",
   "execution_count": 68,
   "id": "af1ddd53",
   "metadata": {},
   "outputs": [
    {
     "name": "stdout",
     "output_type": "stream",
     "text": [
      "[16 21 27 22 28 30 27 37 16 40]\n",
      "[16 16 21 22 27 27 28 30 37 40]\n"
     ]
    }
   ],
   "source": [
    "arr = np.random.randint(50, size=10)\n",
    "print(arr)\n",
    "\n",
    "arr.sort()\n",
    "print(arr)"
   ]
  },
  {
   "cell_type": "markdown",
   "id": "782f9d78",
   "metadata": {},
   "source": [
    "## Работа с пропущенными данными"
   ]
  },
  {
   "cell_type": "code",
   "execution_count": 69,
   "id": "9a37163a",
   "metadata": {},
   "outputs": [
    {
     "name": "stdout",
     "output_type": "stream",
     "text": [
      "[2.         3.                nan 1.73205081]\n"
     ]
    },
    {
     "name": "stderr",
     "output_type": "stream",
     "text": [
      "C:\\Users\\user\\AppData\\Local\\Temp\\ipykernel_14740\\616971021.py:2: RuntimeWarning: invalid value encountered in sqrt\n",
      "  roots = np.sqrt(arr)\n"
     ]
    }
   ],
   "source": [
    "arr = np.array([4, 9, -4, 3])\n",
    "roots = np.sqrt(arr)\n",
    "print(roots)"
   ]
  },
  {
   "cell_type": "code",
   "execution_count": 73,
   "id": "db5811c4",
   "metadata": {},
   "outputs": [
    {
     "name": "stdout",
     "output_type": "stream",
     "text": [
      "nan\n"
     ]
    }
   ],
   "source": [
    "print(sum(roots))"
   ]
  },
  {
   "cell_type": "code",
   "execution_count": 76,
   "id": "aef00af5",
   "metadata": {},
   "outputs": [
    {
     "name": "stdout",
     "output_type": "stream",
     "text": [
      "[False False  True False]\n"
     ]
    }
   ],
   "source": [
    "print(np.isnan(roots))"
   ]
  },
  {
   "cell_type": "code",
   "execution_count": 78,
   "id": "855a6c3d",
   "metadata": {},
   "outputs": [
    {
     "name": "stdout",
     "output_type": "stream",
     "text": [
      "[nan]\n"
     ]
    }
   ],
   "source": [
    "print(roots[np.isnan(roots)])"
   ]
  },
  {
   "cell_type": "code",
   "execution_count": 79,
   "id": "77cdce03",
   "metadata": {},
   "outputs": [
    {
     "name": "stdout",
     "output_type": "stream",
     "text": [
      "[2.         3.         0.         1.73205081]\n"
     ]
    }
   ],
   "source": [
    "roots[np.isnan(roots)] = 0\n",
    "print(roots)"
   ]
  },
  {
   "cell_type": "code",
   "execution_count": 80,
   "id": "9de5d309",
   "metadata": {},
   "outputs": [
    {
     "name": "stdout",
     "output_type": "stream",
     "text": [
      "6.732050807568877\n"
     ]
    }
   ],
   "source": [
    "print(sum(roots))"
   ]
  },
  {
   "cell_type": "markdown",
   "id": "c8bd03cb",
   "metadata": {},
   "source": [
    "- отличие None и np.nan.\n",
    "\n",
    "в numpy, np.nan - это отдельный представитель класса float"
   ]
  },
  {
   "cell_type": "code",
   "execution_count": 70,
   "id": "4295575c",
   "metadata": {},
   "outputs": [
    {
     "name": "stdout",
     "output_type": "stream",
     "text": [
      "<class 'NoneType'>\n",
      "<class 'float'>\n"
     ]
    }
   ],
   "source": [
    "print(type(None))\n",
    "print(type(np.nan))"
   ]
  },
  {
   "cell_type": "code",
   "execution_count": 71,
   "id": "909bc33f",
   "metadata": {},
   "outputs": [
    {
     "name": "stdout",
     "output_type": "stream",
     "text": [
      "True\n",
      "False\n",
      "True\n",
      "True\n",
      "False\n"
     ]
    }
   ],
   "source": [
    "print(None == None)\n",
    "print(np.nan == np.nan)\n",
    "print(None is None)\n",
    "print(np.nan is np.nan)\n",
    "print(np.nan is None)"
   ]
  },
  {
   "cell_type": "code",
   "execution_count": 96,
   "id": "a9e1fa6c",
   "metadata": {},
   "outputs": [
    {
     "name": "stdout",
     "output_type": "stream",
     "text": [
      "[[-26024.  -2365.  29810.]\n",
      " [-17722.  12279.  31244.]\n",
      " [-16431.  16132.     nan]\n",
      " [ -9212.  25933.     nan]\n",
      " [ -6974.  28745.     nan]]\n"
     ]
    },
    {
     "name": "stderr",
     "output_type": "stream",
     "text": [
      "C:\\Users\\user\\AppData\\Local\\Temp\\ipykernel_14740\\1660250744.py:12: RuntimeWarning: invalid value encountered in cast\n",
      "  mystery_int = np.int32(mystery)\n"
     ]
    }
   ],
   "source": [
    "import numpy as np\n",
    "mystery = np.array(\n",
    "        [ 12279., -26024.,  28745.,  np.nan,  31244.,  -2365.,                 -6974.,-9212., np.nan, -17722.,  16132.,  25933.,  np.nan,             -16431.,\n",
    "        29810.], \n",
    "        dtype=np.float32)\n",
    "\n",
    "\n",
    "nans_index = np.isnan(mystery)\n",
    "n_nan = len(mystery[np.isnan(mystery)])\n",
    "mystery_new = np.array(mystery)\n",
    "mystery_new[np.isnan(mystery_new)] = 0\n",
    "mystery_int = np.int32(mystery)\n",
    "array = np.sort(mystery)\n",
    "table = array.reshape((5, 3), order='F')\n",
    "print(table)\n",
    "col = table[:,2]"
   ]
  }
 ],
 "metadata": {
  "kernelspec": {
   "display_name": "Python 3",
   "language": "python",
   "name": "python3"
  },
  "language_info": {
   "codemirror_mode": {
    "name": "ipython",
    "version": 3
   },
   "file_extension": ".py",
   "mimetype": "text/x-python",
   "name": "python",
   "nbconvert_exporter": "python",
   "pygments_lexer": "ipython3",
   "version": "3.13.1"
  }
 },
 "nbformat": 4,
 "nbformat_minor": 5
}

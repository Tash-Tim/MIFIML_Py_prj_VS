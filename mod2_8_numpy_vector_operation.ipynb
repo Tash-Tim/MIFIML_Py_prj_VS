{
 "cells": [
  {
   "cell_type": "markdown",
   "id": "709a9c40",
   "metadata": {},
   "source": [
    "# Модуль NumPy. Операции с векторами"
   ]
  },
  {
   "cell_type": "markdown",
   "id": "d39ad217",
   "metadata": {},
   "source": [
    "> В программировании вектором называют одномерный проиндексированный набор данных, другими словами — одномерный массив."
   ]
  },
  {
   "cell_type": "markdown",
   "id": "605424c5",
   "metadata": {},
   "source": [
    "## Векторы в NumPy и арифметика"
   ]
  },
  {
   "cell_type": "code",
   "execution_count": null,
   "id": "c612b954",
   "metadata": {},
   "outputs": [
    {
     "name": "stdout",
     "output_type": "stream",
     "text": [
      "[14.  10.  10.6 15.5]\n"
     ]
    }
   ],
   "source": [
    "import numpy as np\n",
    "vec1 = np.array([2, 4, 7, 2.5])\n",
    "vec2 = np.array([12, 6, 3.6, 13])\n",
    "print(vec1 + vec2) # сложение вектора массива"
   ]
  },
  {
   "cell_type": "code",
   "execution_count": null,
   "id": "21cc230b",
   "metadata": {},
   "outputs": [
    {
     "name": "stdout",
     "output_type": "stream",
     "text": [
      "[2, 4, 7, 2.5, 12, 6, 3.6, 13]\n"
     ]
    }
   ],
   "source": [
    "list1 = [2, 4, 7, 2.5]\n",
    "list2 = [12, 6, 3.6, 13]\n",
    "list1 + list2 # сложение списков"
   ]
  },
  {
   "cell_type": "code",
   "execution_count": 32,
   "id": "8cdc1308",
   "metadata": {},
   "outputs": [
    {
     "data": {
      "text/plain": [
       "[14, 10, 10.6, 15.5]"
      ]
     },
     "execution_count": 32,
     "metadata": {},
     "output_type": "execute_result"
    }
   ],
   "source": [
    "[x + y for x, y in zip(list1, list2)]  # сложить 2 списка поэлементно "
   ]
  },
  {
   "cell_type": "markdown",
   "id": "e9660a54",
   "metadata": {},
   "source": [
    ">> Для совершения арифметических операций с векторами они должны быть одинаковой длины."
   ]
  },
  {
   "cell_type": "code",
   "execution_count": 5,
   "id": "d2897d60",
   "metadata": {},
   "outputs": [
    {
     "data": {
      "text/plain": [
       "array([24. , 24. , 25.2, 32.5])"
      ]
     },
     "execution_count": 5,
     "metadata": {},
     "output_type": "execute_result"
    }
   ],
   "source": [
    "vec1 = np.array([2, 4, 7, 2.5])\n",
    "vec2 = np.array([12, 6, 3.6, 13])\n",
    "vec1 * vec2"
   ]
  },
  {
   "cell_type": "code",
   "execution_count": 6,
   "id": "5d2de6ec",
   "metadata": {},
   "outputs": [
    {
     "ename": "ValueError",
     "evalue": "operands could not be broadcast together with shapes (4,) (3,) ",
     "output_type": "error",
     "traceback": [
      "\u001b[31m---------------------------------------------------------------------------\u001b[39m",
      "\u001b[31mValueError\u001b[39m                                Traceback (most recent call last)",
      "\u001b[36mCell\u001b[39m\u001b[36m \u001b[39m\u001b[32mIn[6]\u001b[39m\u001b[32m, line 3\u001b[39m\n\u001b[32m      1\u001b[39m vec1 = np.array([\u001b[32m2\u001b[39m, \u001b[32m4\u001b[39m, \u001b[32m7\u001b[39m, \u001b[32m2.5\u001b[39m])\n\u001b[32m      2\u001b[39m vec2 = np.array([\u001b[32m12\u001b[39m, \u001b[32m6\u001b[39m, \u001b[32m3.6\u001b[39m])\n\u001b[32m----> \u001b[39m\u001b[32m3\u001b[39m \u001b[43mvec1\u001b[49m\u001b[43m \u001b[49m\u001b[43m*\u001b[49m\u001b[43m \u001b[49m\u001b[43mvec2\u001b[49m\n",
      "\u001b[31mValueError\u001b[39m: operands could not be broadcast together with shapes (4,) (3,) "
     ]
    }
   ],
   "source": [
    "vec1 = np.array([2, 4, 7, 2.5])\n",
    "vec2 = np.array([12, 6, 3.6])\n",
    "vec1 * vec2"
   ]
  },
  {
   "cell_type": "code",
   "execution_count": 31,
   "id": "668e27bb",
   "metadata": {},
   "outputs": [
    {
     "name": "stdout",
     "output_type": "stream",
     "text": [
      "[ 0 10 20 30 40]\n"
     ]
    },
    {
     "data": {
      "text/plain": [
       "array([ 0,  1,  4,  9, 16])"
      ]
     },
     "execution_count": 31,
     "metadata": {},
     "output_type": "execute_result"
    }
   ],
   "source": [
    "vec = np.arange(5)\n",
    "print(vec * 10)\n",
    "vec ** 2"
   ]
  },
  {
   "cell_type": "code",
   "execution_count": 8,
   "id": "c2c2a236",
   "metadata": {},
   "outputs": [
    {
     "data": {
      "text/plain": [
       "array([False, False,  True, False])"
      ]
     },
     "execution_count": 8,
     "metadata": {},
     "output_type": "execute_result"
    }
   ],
   "source": [
    "vec1 = np.array([2, 4, 7, 2.5])\n",
    "vec2 = np.array([12, 6, 3.6, 13])\n",
    "\n",
    "vec1 > vec2 "
   ]
  },
  {
   "cell_type": "code",
   "execution_count": 9,
   "id": "26adeeb9",
   "metadata": {},
   "outputs": [
    {
     "data": {
      "text/plain": [
       "array([ True,  True,  True,  True, False,  True, False])"
      ]
     },
     "execution_count": 9,
     "metadata": {},
     "output_type": "execute_result"
    }
   ],
   "source": [
    "vec = np.array([14,15,9,26,53,5,89])\n",
    "vec <= 26"
   ]
  },
  {
   "cell_type": "markdown",
   "id": "efbe172f",
   "metadata": {},
   "source": [
    "## Продвинутые операции с векторами"
   ]
  },
  {
   "cell_type": "markdown",
   "id": "7f0e276a",
   "metadata": {},
   "source": [
    "1. __Длина__ вектора, то есть расстояние между его началом и концом, [в евклидовом пространстве] вычисляется как квадратный корень из суммы квадратов всех его координат. Для вектора из n чисел x1, x2 … xn верна формула:"
   ]
  },
  {
   "cell_type": "markdown",
   "id": "ed4e6d5c",
   "metadata": {},
   "source": [
    "$$\n",
    "\\ lenght \\ = \\sqrt{a_1^2 + a_2^2 + \\dots + a_n^2}\n",
    "$$"
   ]
  },
  {
   "cell_type": "code",
   "execution_count": 16,
   "id": "4781971e",
   "metadata": {},
   "outputs": [],
   "source": [
    "vec  = np.array([3, 4])"
   ]
  },
  {
   "cell_type": "code",
   "execution_count": 30,
   "id": "0880347f",
   "metadata": {},
   "outputs": [
    {
     "data": {
      "text/plain": [
       "np.float64(5.0)"
      ]
     },
     "execution_count": 30,
     "metadata": {},
     "output_type": "execute_result"
    }
   ],
   "source": [
    "vec_len = np.sqrt(np.sum(vec ** 2)) # из фурмулы\n",
    "vec_len"
   ]
  },
  {
   "cell_type": "code",
   "execution_count": 29,
   "id": "676cc3ea",
   "metadata": {},
   "outputs": [
    {
     "data": {
      "text/plain": [
       "np.float64(5.0)"
      ]
     },
     "execution_count": 29,
     "metadata": {},
     "output_type": "execute_result"
    }
   ],
   "source": [
    "vec_len = np.linalg.norm(vec) # из модуля numpy и подмодуля linalg. norm - длина вектора\n",
    "vec_len"
   ]
  },
  {
   "cell_type": "markdown",
   "id": "a8eba2da",
   "metadata": {},
   "source": [
    "2. __Расстояние__ между двумя векторами, то есть ___расстояние между их концами___, [в евклидовом пространстве] вычисляется как квадратный корень из суммы квадратов разностей соответствующих координат. Звучит сложно, поэтому лучше посмотрите на формулу (считаем расстояние между векторами X и Y):"
   ]
  },
  {
   "cell_type": "markdown",
   "id": "9331f60a",
   "metadata": {},
   "source": [
    "$$\n",
    "\\ distance \\ = \\sqrt{(a_1 - b_1)^2 + (a_2 - b_2)^2 + \\dots + (a_n - b_n)^2}\n",
    "$$"
   ]
  },
  {
   "cell_type": "markdown",
   "id": "ead21282",
   "metadata": {},
   "source": [
    "> По сути, расстояние между векторами — это длина такого вектора, который является разностью этих векторов. В самом деле, при вычитании двух векторов вычитаются их соответствующие координаты."
   ]
  },
  {
   "cell_type": "code",
   "execution_count": 28,
   "id": "7f577299",
   "metadata": {},
   "outputs": [
    {
     "data": {
      "text/plain": [
       "np.float64(12.206555615733702)"
      ]
     },
     "execution_count": 28,
     "metadata": {},
     "output_type": "execute_result"
    }
   ],
   "source": [
    "vec1 = np.array([0, 3, 5])\n",
    "vec2 = np.array([12, 4, 7])\n",
    "dist = np.sqrt(np.sum((vec1 - vec2) ** 2)) # из формулы\n",
    "dist"
   ]
  },
  {
   "cell_type": "code",
   "execution_count": 27,
   "id": "111704fc",
   "metadata": {},
   "outputs": [
    {
     "data": {
      "text/plain": [
       "np.float64(27.248853186877426)"
      ]
     },
     "execution_count": 27,
     "metadata": {},
     "output_type": "execute_result"
    }
   ],
   "source": [
    "dist = np.linalg.norm(vec1 - vec2) # из модуля numpy и подмодуля linalg\n",
    "dist"
   ]
  },
  {
   "cell_type": "markdown",
   "id": "8a177e88",
   "metadata": {},
   "source": [
    "3. __Скалярным__ произведением двух векторов называют сумму произведений их соответствующих координат. Вот формула для скалярного произведения векторов X и Y из  координат:"
   ]
  },
  {
   "cell_type": "markdown",
   "id": "76f63fa6",
   "metadata": {},
   "source": [
    "$$\n",
    "\\ X * Y \\ =  x_1 * y_1 + x_2 * y_2 + \\dots + x_n *y_n"
   ]
  },
  {
   "cell_type": "code",
   "execution_count": 26,
   "id": "b3d052ed",
   "metadata": {},
   "outputs": [
    {
     "data": {
      "text/plain": [
       "np.float64(250.0)"
      ]
     },
     "execution_count": 26,
     "metadata": {},
     "output_type": "execute_result"
    }
   ],
   "source": [
    "vec1 = np.arange(1, 6)\n",
    "vec2 = np.linspace(10, 20, 5)\n",
    "scalar_dot = np.sum(vec1 * vec2) # из фомулы\n",
    "scalar_dot"
   ]
  },
  {
   "cell_type": "code",
   "execution_count": 25,
   "id": "66353f30",
   "metadata": {},
   "outputs": [
    {
     "data": {
      "text/plain": [
       "np.float64(250.0)"
      ]
     },
     "execution_count": 25,
     "metadata": {},
     "output_type": "execute_result"
    }
   ],
   "source": [
    "scalar_dot = np.dot(vec1, vec2)\n",
    "scalar_dot"
   ]
  },
  {
   "cell_type": "markdown",
   "id": "6a48e3ba",
   "metadata": {},
   "source": [
    "> Если скалярное произвдение = 0, => векторы перпендикулярны (отогональный друг к другу)"
   ]
  },
  {
   "cell_type": "code",
   "execution_count": 24,
   "id": "e5d6aebe",
   "metadata": {},
   "outputs": [
    {
     "data": {
      "text/plain": [
       "np.int64(0)"
      ]
     },
     "execution_count": 24,
     "metadata": {},
     "output_type": "execute_result"
    }
   ],
   "source": [
    "x = np.array([25, 0])\n",
    "y = np.array([0, 10])\n",
    "np.dot(x, y)"
   ]
  },
  {
   "cell_type": "markdown",
   "id": "e8f4797e",
   "metadata": {},
   "source": [
    "___"
   ]
  },
  {
   "cell_type": "markdown",
   "id": "128a8240",
   "metadata": {},
   "source": [
    "> __Сонаправленные векторы__ если они коллинеарны и их направления совпадают \n",
    ">> ___сумма длин сонаправленных векторов должна быть равной длине суммы двух векторов___"
   ]
  },
  {
   "cell_type": "markdown",
   "id": "cb3dc604",
   "metadata": {},
   "source": [
    "___"
   ]
  },
  {
   "cell_type": "markdown",
   "id": "ef2e3593",
   "metadata": {},
   "source": [
    "## Базовые статистические функции для векторов"
   ]
  },
  {
   "cell_type": "code",
   "execution_count": 33,
   "id": "59fa2f2f",
   "metadata": {},
   "outputs": [],
   "source": [
    "vec = np.array([2,7,18,28,18,1,8,4])"
   ]
  },
  {
   "cell_type": "markdown",
   "id": "e9df9fde",
   "metadata": {},
   "source": [
    "- min"
   ]
  },
  {
   "cell_type": "code",
   "execution_count": 34,
   "id": "24508160",
   "metadata": {},
   "outputs": [
    {
     "data": {
      "text/plain": [
       "np.int64(1)"
      ]
     },
     "execution_count": 34,
     "metadata": {},
     "output_type": "execute_result"
    }
   ],
   "source": [
    "vec.min()"
   ]
  },
  {
   "cell_type": "code",
   "execution_count": 35,
   "id": "7627b3bf",
   "metadata": {},
   "outputs": [
    {
     "data": {
      "text/plain": [
       "np.int64(1)"
      ]
     },
     "execution_count": 35,
     "metadata": {},
     "output_type": "execute_result"
    }
   ],
   "source": [
    "np.min(vec)"
   ]
  },
  {
   "cell_type": "markdown",
   "id": "06d4966e",
   "metadata": {},
   "source": [
    "- max"
   ]
  },
  {
   "cell_type": "code",
   "execution_count": 36,
   "id": "1befde4d",
   "metadata": {},
   "outputs": [
    {
     "data": {
      "text/plain": [
       "np.int64(28)"
      ]
     },
     "execution_count": 36,
     "metadata": {},
     "output_type": "execute_result"
    }
   ],
   "source": [
    "vec.max()"
   ]
  },
  {
   "cell_type": "code",
   "execution_count": 37,
   "id": "5a68f48e",
   "metadata": {},
   "outputs": [
    {
     "data": {
      "text/plain": [
       "np.int64(28)"
      ]
     },
     "execution_count": 37,
     "metadata": {},
     "output_type": "execute_result"
    }
   ],
   "source": [
    "np.max(vec)"
   ]
  },
  {
   "cell_type": "markdown",
   "id": "403e37be",
   "metadata": {},
   "source": [
    "- mean (средняя)"
   ]
  },
  {
   "cell_type": "code",
   "execution_count": 38,
   "id": "7ed3a473",
   "metadata": {},
   "outputs": [
    {
     "data": {
      "text/plain": [
       "np.float64(10.75)"
      ]
     },
     "execution_count": 38,
     "metadata": {},
     "output_type": "execute_result"
    }
   ],
   "source": [
    "vec.mean()"
   ]
  },
  {
   "cell_type": "code",
   "execution_count": 39,
   "id": "a544a749",
   "metadata": {},
   "outputs": [
    {
     "data": {
      "text/plain": [
       "np.float64(10.75)"
      ]
     },
     "execution_count": 39,
     "metadata": {},
     "output_type": "execute_result"
    }
   ],
   "source": [
    "np.mean(vec)"
   ]
  }
 ],
 "metadata": {
  "kernelspec": {
   "display_name": "Python 3",
   "language": "python",
   "name": "python3"
  },
  "language_info": {
   "codemirror_mode": {
    "name": "ipython",
    "version": 3
   },
   "file_extension": ".py",
   "mimetype": "text/x-python",
   "name": "python",
   "nbconvert_exporter": "python",
   "pygments_lexer": "ipython3",
   "version": "3.13.1"
  }
 },
 "nbformat": 4,
 "nbformat_minor": 5
}

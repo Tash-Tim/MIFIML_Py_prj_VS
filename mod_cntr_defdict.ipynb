{
 "cells": [
  {
   "cell_type": "markdown",
   "id": "ebfb781c",
   "metadata": {},
   "source": [
    "# Модуль Collections. Counter и defaultdict"
   ]
  },
  {
   "cell_type": "markdown",
   "id": "332a720b",
   "metadata": {},
   "source": [
    "## Counter"
   ]
  },
  {
   "cell_type": "code",
   "execution_count": null,
   "id": "7f1d4d91",
   "metadata": {},
   "outputs": [],
   "source": [
    "from collections import Counter\n",
    "c = Counter()\n",
    "\n",
    "c['red'] += 1\n",
    "print(c)"
   ]
  },
  {
   "cell_type": "code",
   "execution_count": null,
   "id": "ee14d831",
   "metadata": {},
   "outputs": [],
   "source": [
    "cars = ['red', 'blue', 'black', 'black', 'black', 'red', 'blue', 'red', 'white']\n",
    "for car in cars:\n",
    "    c[car] += 1\n",
    " \n",
    "print(c)\n",
    "Counter({'red': 3, 'black': 3, 'blue': 2, 'white': 1})"
   ]
  },
  {
   "cell_type": "code",
   "execution_count": null,
   "id": "f3395fcb",
   "metadata": {},
   "outputs": [],
   "source": [
    "c = Counter(cars)\n",
    "print(c)\n",
    "print(c['black'])\n",
    "print(c['purple'])"
   ]
  },
  {
   "cell_type": "code",
   "execution_count": null,
   "id": "6f3ebc99",
   "metadata": {},
   "outputs": [],
   "source": [
    "print(sum(c.values()))\n"
   ]
  },
  {
   "cell_type": "code",
   "execution_count": null,
   "id": "6ef8d21d",
   "metadata": {},
   "outputs": [],
   "source": [
    "cars_moscow = ['black', 'black', 'white', 'black', 'black', 'white', 'yellow', 'yellow', 'yellow']\n",
    "cars_spb = ['red', 'black', 'black', 'white', 'white', 'yellow', 'yellow', 'red', 'white']\n",
    "\n",
    "counter_moscow = Counter(cars_moscow)\n",
    "counter_spb = Counter(cars_spb)\n",
    " \n",
    "print(counter_moscow)\n",
    "print(counter_spb)"
   ]
  },
  {
   "cell_type": "code",
   "execution_count": null,
   "id": "b18f4bbe",
   "metadata": {},
   "outputs": [],
   "source": [
    "print(counter_moscow + counter_spb)\n",
    "print(counter_moscow - counter_spb)\n"
   ]
  },
  {
   "cell_type": "code",
   "execution_count": null,
   "id": "4539d808",
   "metadata": {},
   "outputs": [],
   "source": [
    "print(counter_moscow, type(counter_moscow))\n",
    "print(counter_spb, type(counter_spb))\n",
    "\n",
    "counter_moscow.subtract(counter_spb)\n",
    "print(counter_moscow, type(counter_moscow))"
   ]
  },
  {
   "cell_type": "code",
   "execution_count": null,
   "id": "a36a61dd",
   "metadata": {},
   "outputs": [],
   "source": [
    "print(*counter_moscow.elements())"
   ]
  },
  {
   "cell_type": "code",
   "execution_count": null,
   "id": "77f3745c",
   "metadata": {},
   "outputs": [],
   "source": [
    "print(list(counter_moscow), type(list(counter_moscow)))"
   ]
  },
  {
   "cell_type": "code",
   "execution_count": null,
   "id": "9f3ae10f",
   "metadata": {},
   "outputs": [],
   "source": [
    "print(dict(counter_moscow), type(dict(counter_moscow)))"
   ]
  },
  {
   "cell_type": "code",
   "execution_count": null,
   "id": "4fb8430a",
   "metadata": {},
   "outputs": [],
   "source": [
    "print(counter_moscow.most_common(), type(counter_moscow.most_common()), type(counter_moscow.most_common()[0]))"
   ]
  },
  {
   "cell_type": "code",
   "execution_count": null,
   "id": "f4127ac5",
   "metadata": {},
   "outputs": [],
   "source": [
    "print(counter_moscow.most_common(2))"
   ]
  },
  {
   "cell_type": "code",
   "execution_count": null,
   "id": "42e49bd8",
   "metadata": {},
   "outputs": [],
   "source": [
    "counter_moscow.clear()\n",
    "print(counter_moscow)"
   ]
  },
  {
   "cell_type": "code",
   "execution_count": null,
   "id": "71738f26",
   "metadata": {},
   "outputs": [],
   "source": [
    "print(counter_moscow)\n",
    "print(counter_spb)"
   ]
  },
  {
   "cell_type": "markdown",
   "id": "c6e903b9",
   "metadata": {},
   "source": [
    "## Defaultdict"
   ]
  },
  {
   "cell_type": "code",
   "execution_count": 167,
   "id": "4c6e38d2",
   "metadata": {},
   "outputs": [],
   "source": [
    "students = [('Ivanov',1),('Smirnov',4),('Petrov',3),('Kuznetsova',1),\n",
    "            ('Nikitina',2),('Markov',3),('Pavlov',2)]"
   ]
  },
  {
   "cell_type": "code",
   "execution_count": 168,
   "id": "8bff0aba",
   "metadata": {},
   "outputs": [
    {
     "name": "stdout",
     "output_type": "stream",
     "text": [
      "{1: ['Ivanov', 'Kuznetsova'], 4: ['Smirnov'], 3: ['Petrov', 'Markov'], 2: ['Nikitina', 'Pavlov']}\n"
     ]
    }
   ],
   "source": [
    "groups = dict()\n",
    " \n",
    "for student, group in students:\n",
    "    # Проверяем, есть ли уже эта группа в словаре\n",
    "    if group not in groups:\n",
    "        # Если группы ещё нет в словаре, создаём для неё пустой список\n",
    "        groups[group] = list()\n",
    "    groups[group].append(student)\n",
    " \n",
    "print(groups)"
   ]
  }
 ],
 "metadata": {
  "kernelspec": {
   "display_name": "Python 3",
   "language": "python",
   "name": "python3"
  },
  "language_info": {
   "codemirror_mode": {
    "name": "ipython",
    "version": 3
   },
   "file_extension": ".py",
   "mimetype": "text/x-python",
   "name": "python",
   "nbconvert_exporter": "python",
   "pygments_lexer": "ipython3",
   "version": "3.13.1"
  }
 },
 "nbformat": 4,
 "nbformat_minor": 5
}

{
 "cells": [
  {
   "cell_type": "markdown",
   "id": "ebfb781c",
   "metadata": {},
   "source": [
    "# Модуль Collections. Counter и defaultdict"
   ]
  },
  {
   "cell_type": "markdown",
   "id": "332a720b",
   "metadata": {},
   "source": [
    "## Counter"
   ]
  },
  {
   "cell_type": "code",
   "execution_count": 91,
   "id": "7f1d4d91",
   "metadata": {},
   "outputs": [
    {
     "name": "stdout",
     "output_type": "stream",
     "text": [
      "Counter({'red': 1})\n"
     ]
    }
   ],
   "source": [
    "from collections import Counter\n",
    "c = Counter()\n",
    "\n",
    "c['red'] += 1\n",
    "print(c)"
   ]
  },
  {
   "cell_type": "code",
   "execution_count": 92,
   "id": "ee14d831",
   "metadata": {},
   "outputs": [
    {
     "name": "stdout",
     "output_type": "stream",
     "text": [
      "Counter({'red': 4, 'black': 3, 'blue': 2, 'white': 1})\n"
     ]
    },
    {
     "data": {
      "text/plain": [
       "Counter({'red': 3, 'black': 3, 'blue': 2, 'white': 1})"
      ]
     },
     "execution_count": 92,
     "metadata": {},
     "output_type": "execute_result"
    }
   ],
   "source": [
    "cars = ['red', 'blue', 'black', 'black', 'black', 'red', 'blue', 'red', 'white']\n",
    "for car in cars:\n",
    "    c[car] += 1\n",
    " \n",
    "print(c)\n",
    "Counter({'red': 3, 'black': 3, 'blue': 2, 'white': 1})"
   ]
  },
  {
   "cell_type": "code",
   "execution_count": 93,
   "id": "f3395fcb",
   "metadata": {},
   "outputs": [
    {
     "name": "stdout",
     "output_type": "stream",
     "text": [
      "Counter({'red': 3, 'black': 3, 'blue': 2, 'white': 1})\n",
      "3\n",
      "0\n"
     ]
    }
   ],
   "source": [
    "c = Counter(cars)\n",
    "print(c)\n",
    "print(c['black'])\n",
    "print(c['purple'])"
   ]
  },
  {
   "cell_type": "code",
   "execution_count": 94,
   "id": "6f3ebc99",
   "metadata": {},
   "outputs": [
    {
     "name": "stdout",
     "output_type": "stream",
     "text": [
      "9\n"
     ]
    }
   ],
   "source": [
    "print(sum(c.values()))\n"
   ]
  },
  {
   "cell_type": "code",
   "execution_count": 95,
   "id": "6ef8d21d",
   "metadata": {},
   "outputs": [
    {
     "name": "stdout",
     "output_type": "stream",
     "text": [
      "Counter({'black': 4, 'yellow': 3, 'white': 2})\n",
      "Counter({'white': 3, 'red': 2, 'black': 2, 'yellow': 2})\n"
     ]
    }
   ],
   "source": [
    "cars_moscow = ['black', 'black', 'white', 'black', 'black', 'white', 'yellow', 'yellow', 'yellow']\n",
    "cars_spb = ['red', 'black', 'black', 'white', 'white', 'yellow', 'yellow', 'red', 'white']\n",
    "\n",
    "counter_moscow = Counter(cars_moscow)\n",
    "counter_spb = Counter(cars_spb)\n",
    " \n",
    "print(counter_moscow)\n",
    "print(counter_spb)"
   ]
  },
  {
   "cell_type": "code",
   "execution_count": 96,
   "id": "b18f4bbe",
   "metadata": {},
   "outputs": [
    {
     "name": "stdout",
     "output_type": "stream",
     "text": [
      "Counter({'black': 6, 'white': 5, 'yellow': 5, 'red': 2})\n",
      "Counter({'black': 2, 'yellow': 1})\n"
     ]
    }
   ],
   "source": [
    "print(counter_moscow + counter_spb)\n",
    "print(counter_moscow - counter_spb)\n"
   ]
  },
  {
   "cell_type": "code",
   "execution_count": null,
   "id": "4539d808",
   "metadata": {},
   "outputs": [
    {
     "name": "stdout",
     "output_type": "stream",
     "text": [
      "Counter({'black': 4, 'yellow': 3, 'white': 2}) <class 'collections.Counter'>\n",
      "Counter({'white': 3, 'red': 2, 'black': 2, 'yellow': 2}) <class 'collections.Counter'>\n"
     ]
    }
   ],
   "source": [
    "print(counter_moscow, type(counter_moscow))\n",
    "print(counter_spb, type(counter_spb))\n",
    "\n",
    "counter_moscow.subtract(counter_spb)\n",
    "print(counter_moscow, type(counter_moscow))"
   ]
  },
  {
   "cell_type": "code",
   "execution_count": 98,
   "id": "a36a61dd",
   "metadata": {},
   "outputs": [
    {
     "name": "stdout",
     "output_type": "stream",
     "text": [
      "black black black black white white yellow yellow yellow\n"
     ]
    }
   ],
   "source": [
    "print(*counter_moscow.elements())"
   ]
  },
  {
   "cell_type": "code",
   "execution_count": 99,
   "id": "77f3745c",
   "metadata": {},
   "outputs": [
    {
     "name": "stdout",
     "output_type": "stream",
     "text": [
      "['black', 'white', 'yellow'] <class 'list'>\n"
     ]
    }
   ],
   "source": [
    "print(list(counter_moscow), type(list(counter_moscow)))"
   ]
  },
  {
   "cell_type": "code",
   "execution_count": 100,
   "id": "9f3ae10f",
   "metadata": {},
   "outputs": [
    {
     "name": "stdout",
     "output_type": "stream",
     "text": [
      "{'black': 4, 'white': 2, 'yellow': 3} <class 'dict'>\n"
     ]
    }
   ],
   "source": [
    "print(dict(counter_moscow), type(dict(counter_moscow)))"
   ]
  },
  {
   "cell_type": "code",
   "execution_count": 101,
   "id": "4fb8430a",
   "metadata": {},
   "outputs": [
    {
     "name": "stdout",
     "output_type": "stream",
     "text": [
      "[('black', 4), ('yellow', 3), ('white', 2)] <class 'list'> <class 'tuple'>\n"
     ]
    }
   ],
   "source": [
    "print(counter_moscow.most_common(), type(counter_moscow.most_common()), type(counter_moscow.most_common()[0]))"
   ]
  },
  {
   "cell_type": "code",
   "execution_count": 102,
   "id": "f4127ac5",
   "metadata": {},
   "outputs": [
    {
     "name": "stdout",
     "output_type": "stream",
     "text": [
      "[('black', 4), ('yellow', 3)]\n"
     ]
    }
   ],
   "source": [
    "print(counter_moscow.most_common(2))"
   ]
  },
  {
   "cell_type": "code",
   "execution_count": 103,
   "id": "42e49bd8",
   "metadata": {},
   "outputs": [
    {
     "name": "stdout",
     "output_type": "stream",
     "text": [
      "Counter()\n"
     ]
    }
   ],
   "source": [
    "counter_moscow.clear()\n",
    "print(counter_moscow)"
   ]
  },
  {
   "cell_type": "code",
   "execution_count": 104,
   "id": "71738f26",
   "metadata": {},
   "outputs": [
    {
     "name": "stdout",
     "output_type": "stream",
     "text": [
      "Counter()\n",
      "Counter({'white': 3, 'red': 2, 'black': 2, 'yellow': 2})\n"
     ]
    }
   ],
   "source": [
    "print(counter_moscow)\n",
    "print(counter_spb)"
   ]
  },
  {
   "cell_type": "markdown",
   "id": "c6e903b9",
   "metadata": {},
   "source": [
    "## Defaultdict"
   ]
  },
  {
   "cell_type": "code",
   "execution_count": 105,
   "id": "4c6e38d2",
   "metadata": {},
   "outputs": [],
   "source": [
    "students = [('Ivanov',1),('Smirnov',4),('Petrov',3),('Kuznetsova',1),\n",
    "            ('Nikitina',2),('Markov',3),('Pavlov',2)]"
   ]
  },
  {
   "cell_type": "code",
   "execution_count": 106,
   "id": "8bff0aba",
   "metadata": {},
   "outputs": [],
   "source": [
    "# groups = dict()\n",
    "# for student, group in students:\n",
    "#     if group not in groups:\n",
    "#         groups[group] = list()\n",
    "#     groups[group].append(student)\n",
    " \n",
    "# print(groups)"
   ]
  },
  {
   "cell_type": "markdown",
   "id": "bfacd4ec",
   "metadata": {},
   "source": [
    "- Упрощение кода\n",
    ">Для этого существует объект defaultdict из модуля collections. Он позволяет задавать тот тип данных, который хранится в словаре по умолчанию (в нашем случае это должен быть список). Это бывает удобно в том случае, если приходится заполнять одну и ту же структуру данных, экземпляр которой должен храниться по каждому ключу в словаре."
   ]
  },
  {
   "cell_type": "code",
   "execution_count": 107,
   "id": "451699da",
   "metadata": {},
   "outputs": [],
   "source": [
    "from collections import defaultdict\n",
    "groups = defaultdict(list)"
   ]
  },
  {
   "cell_type": "code",
   "execution_count": 108,
   "id": "7c5d888b",
   "metadata": {},
   "outputs": [
    {
     "name": "stdout",
     "output_type": "stream",
     "text": [
      "defaultdict(<class 'list'>, {1: ['Ivanov', 'Kuznetsova'], 4: ['Smirnov'], 3: ['Petrov', 'Markov'], 2: ['Nikitina', 'Pavlov']}) <class 'collections.defaultdict'>\n",
      "['Petrov', 'Markov']\n",
      "[]\n",
      "defaultdict(<class 'list'>, {1: ['Ivanov', 'Kuznetsova'], 4: ['Smirnov'], 3: ['Petrov', 'Markov'], 2: ['Nikitina', 'Pavlov'], 123: []})\n"
     ]
    }
   ],
   "source": [
    "for student, group in students:\n",
    "    groups[group].append(student)\n",
    " \n",
    "print(groups, type(groups))\n",
    "print(groups[3])\n",
    "print(groups[123])\n",
    "print(groups)"
   ]
  },
  {
   "cell_type": "code",
   "execution_count": 89,
   "id": "2713f708",
   "metadata": {},
   "outputs": [
    {
     "name": "stdout",
     "output_type": "stream",
     "text": [
      "<class 'dict'>\n",
      "<class 'collections.defaultdict'>\n",
      "{}\n",
      "defaultdict(None, {})\n"
     ]
    }
   ],
   "source": [
    "''' Разница между dict() и defaultdict() '''\n",
    "dict_object = dict()\n",
    "defaultdict_object = defaultdict()\n",
    " \n",
    "print(type(dict_object))\n",
    "print(type(defaultdict_object))\n",
    "\n",
    "print(dict_object)\n",
    "print(defaultdict_object)"
   ]
  }
 ],
 "metadata": {
  "kernelspec": {
   "display_name": "Python 3",
   "language": "python",
   "name": "python3"
  },
  "language_info": {
   "codemirror_mode": {
    "name": "ipython",
    "version": 3
   },
   "file_extension": ".py",
   "mimetype": "text/x-python",
   "name": "python",
   "nbconvert_exporter": "python",
   "pygments_lexer": "ipython3",
   "version": "3.13.1"
  }
 },
 "nbformat": 4,
 "nbformat_minor": 5
}

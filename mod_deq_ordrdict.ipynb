{
 "cells": [
  {
   "cell_type": "markdown",
   "id": "7f8cdb37",
   "metadata": {},
   "source": [
    "# Модуль Collections. Deque и OrderedDict"
   ]
  },
  {
   "cell_type": "markdown",
   "id": "aaebb465",
   "metadata": {},
   "source": [
    "## OrderedDict"
   ]
  },
  {
   "cell_type": "code",
   "execution_count": 5,
   "id": "0805ce0d",
   "metadata": {},
   "outputs": [
    {
     "name": "stdout",
     "output_type": "stream",
     "text": [
      "{'Ivan': 19, 'Mark': 25, 'Andrey': 23, 'Maria': 20}\n",
      "{'Ivan': 19, 'Maria': 20, 'Andrey': 23, 'Mark': 25}\n"
     ]
    }
   ],
   "source": [
    "data = [('Ivan', 19),('Mark', 25),('Andrey', 23),('Maria', 20)]\n",
    "client_ages = dict(data)\n",
    "print(client_ages)\n",
    "\n",
    "client_ages_2 = dict(sorted(data, key=lambda x:x[1]))\n",
    "print(client_ages_2)\n"
   ]
  },
  {
   "cell_type": "code",
   "execution_count": 6,
   "id": "038c050b",
   "metadata": {},
   "outputs": [
    {
     "name": "stdout",
     "output_type": "stream",
     "text": [
      "OrderedDict({'Ivan': 19, 'Mark': 25, 'Andrey': 23, 'Maria': 20})\n",
      "OrderedDict({'Ivan': 19, 'Maria': 20, 'Andrey': 23, 'Mark': 25})\n",
      "OrderedDict({'Andrey': 23, 'Ivan': 19, 'Maria': 20, 'Mark': 25})\n"
     ]
    }
   ],
   "source": [
    "from collections import OrderedDict\n",
    "data = [('Ivan', 19),('Mark', 25),('Andrey', 23),('Maria', 20)]\n",
    "order_clnt_ages = OrderedDict(data)\n",
    "print(order_clnt_ages)\n",
    "\n",
    "order_clnt_ages_2 = OrderedDict(sorted(data, key=lambda x:x[1]))\n",
    "print(order_clnt_ages_2)\n",
    "\n",
    "order_clnt_ages_3 = OrderedDict(sorted(data, key=lambda x:x[0]))\n",
    "print(order_clnt_ages_3)"
   ]
  },
  {
   "cell_type": "code",
   "execution_count": 7,
   "id": "01133c72",
   "metadata": {},
   "outputs": [
    {
     "name": "stdout",
     "output_type": "stream",
     "text": [
      "OrderedDict({'Andrey': 23, 'Ivan': 19, 'Maria': 20, 'Mark': 25})\n",
      "OrderedDict({'Ivan': 19, 'Maria': 20, 'Mark': 25})\n",
      "OrderedDict({'Ivan': 19, 'Maria': 20, 'Mark': 25, 'Andrey': 50})\n"
     ]
    }
   ],
   "source": [
    "print(order_clnt_ages_3)\n",
    "\n",
    "del order_clnt_ages_3['Andrey']\n",
    "print(order_clnt_ages_3)\n",
    "\n",
    "order_clnt_ages_3['Andrey'] = 50\n",
    "print(order_clnt_ages_3)"
   ]
  },
  {
   "cell_type": "code",
   "execution_count": 8,
   "id": "5c42cdda",
   "metadata": {},
   "outputs": [
    {
     "name": "stdout",
     "output_type": "stream",
     "text": [
      "3.13.1 (tags/v3.13.1:0671451, Dec  3 2024, 19:06:28) [MSC v.1942 64 bit (AMD64)]\n"
     ]
    }
   ],
   "source": [
    "import sys\n",
    "print(sys.version)"
   ]
  },
  {
   "cell_type": "markdown",
   "id": "b49bba43",
   "metadata": {},
   "source": [
    "## Deque"
   ]
  },
  {
   "cell_type": "code",
   "execution_count": 9,
   "id": "0086bad3",
   "metadata": {},
   "outputs": [
    {
     "name": "stdout",
     "output_type": "stream",
     "text": [
      "deque([])\n",
      "0\n"
     ]
    }
   ],
   "source": [
    "from collections import deque\n",
    "dq = deque()\n",
    "print(dq)\n",
    "print(len(dq))\n",
    "#print(dq.pop())"
   ]
  },
  {
   "cell_type": "markdown",
   "id": "b0178e76",
   "metadata": {},
   "source": [
    "У deque есть четыре ключевые функции:\n",
    "- append (добавить элемент в конец дека);\n",
    "- appendleft (добавить элемент в начало дека);\n",
    "- pop (удалить и вернуть элемент из конца дека);\n",
    "- popleft (удалить и вернуть элемент из начала дека)."
   ]
  },
  {
   "cell_type": "code",
   "execution_count": 10,
   "id": "49b1bffd",
   "metadata": {},
   "outputs": [
    {
     "name": "stdout",
     "output_type": "stream",
     "text": [
      "deque(['Ivanov', 'Petrov', 'Smirnov', 'Tikhonova'])\n"
     ]
    }
   ],
   "source": [
    "clients = deque()\n",
    "clients.append('Ivanov')\n",
    "clients.append('Petrov')\n",
    "clients.append('Smirnov')\n",
    "clients.append('Tikhonova')\n",
    "print(clients)"
   ]
  },
  {
   "cell_type": "code",
   "execution_count": 11,
   "id": "cb3a16fe",
   "metadata": {},
   "outputs": [
    {
     "name": "stdout",
     "output_type": "stream",
     "text": [
      "Smirnov\n"
     ]
    }
   ],
   "source": [
    "print(clients[2])"
   ]
  },
  {
   "cell_type": "code",
   "execution_count": 12,
   "id": "f8645d3d",
   "metadata": {},
   "outputs": [
    {
     "name": "stdout",
     "output_type": "stream",
     "text": [
      "First client: Ivanov\n",
      "Second client: Petrov\n",
      "deque(['Smirnov', 'Tikhonova'])\n"
     ]
    }
   ],
   "source": [
    "frst_clnt = clients.popleft()\n",
    "scnd_clnt = clients.popleft()\n",
    "\n",
    "print(f'First client: {frst_clnt}')\n",
    "print(f'Second client: {scnd_clnt}')\n",
    "print(clients)"
   ]
  },
  {
   "cell_type": "code",
   "execution_count": 13,
   "id": "7993c223",
   "metadata": {},
   "outputs": [
    {
     "name": "stdout",
     "output_type": "stream",
     "text": [
      "deque(['VIP-clietn', 'Smirnov', 'Tikhonova'])\n"
     ]
    }
   ],
   "source": [
    "clients.appendleft('VIP-clietn')\n",
    "print(clients)"
   ]
  },
  {
   "cell_type": "code",
   "execution_count": 14,
   "id": "9b0af5bb",
   "metadata": {},
   "outputs": [
    {
     "name": "stdout",
     "output_type": "stream",
     "text": [
      "Tired client at the and of line: Tikhonova\n",
      "deque(['VIP-clietn', 'Smirnov'])\n"
     ]
    }
   ],
   "source": [
    "tired_client = clients.pop()\n",
    "print(f'Tired client at the and of line: {tired_client}')\n",
    "print(clients)"
   ]
  },
  {
   "cell_type": "code",
   "execution_count": 15,
   "id": "247b1e17",
   "metadata": {},
   "outputs": [
    {
     "name": "stdout",
     "output_type": "stream",
     "text": [
      "deque(['Ivanov', 'Petrov', 'Smirnov', 'Tikhonova'])\n",
      "deque(['Ivanov', 'Petrov', 'Tikhonova'])\n"
     ]
    }
   ],
   "source": [
    "clients_2 = deque(['Ivanov', 'Petrov', 'Smirnov', 'Tikhonova'])\n",
    "print(clients_2)\n",
    "del clients_2[2]\n",
    "print(clients_2)"
   ]
  },
  {
   "cell_type": "code",
   "execution_count": 16,
   "id": "9f5745e4",
   "metadata": {},
   "outputs": [
    {
     "name": "stdout",
     "output_type": "stream",
     "text": [
      "deque([1, 2, 3, 4, 5])\n",
      "deque([1, 2, 3, 4, 5, 11, 12, 13, 14, 15, 16, 17])\n"
     ]
    }
   ],
   "source": [
    "shop = deque(list(range(1, 6)))\n",
    "print(shop)\n",
    "\n",
    "shop.extend(list(range(11, 18)))\n",
    "print(shop)"
   ]
  },
  {
   "cell_type": "code",
   "execution_count": 17,
   "id": "20e7c7a6",
   "metadata": {},
   "outputs": [
    {
     "name": "stdout",
     "output_type": "stream",
     "text": [
      "deque([1, 2, 3, 4, 5])\n",
      "deque([17, 16, 15, 14, 13, 12, 11, 1, 2, 3, 4, 5])\n"
     ]
    }
   ],
   "source": [
    "shop = deque(list(range(1, 6)))\n",
    "print(shop)\n",
    "\n",
    "shop.extendleft(list(range(11, 18)))\n",
    "print(shop)"
   ]
  },
  {
   "cell_type": "markdown",
   "id": "c0826311",
   "metadata": {},
   "source": [
    "Очередь с ограниченной максимальной длиной \"maxlen\""
   ]
  },
  {
   "cell_type": "code",
   "execution_count": 18,
   "id": "383ee8ac",
   "metadata": {},
   "outputs": [
    {
     "name": "stdout",
     "output_type": "stream",
     "text": [
      "deque([], maxlen=3)\n",
      "deque([5, 6, 7], maxlen=3)\n"
     ]
    }
   ],
   "source": [
    "limited = deque(maxlen=3)\n",
    "print(limited)\n",
    "\n",
    "limited_from_list = deque(list(range(1, 8)), maxlen=3)\n",
    "print(limited_from_list)"
   ]
  },
  {
   "cell_type": "code",
   "execution_count": 19,
   "id": "4ffb2d59",
   "metadata": {},
   "outputs": [
    {
     "name": "stdout",
     "output_type": "stream",
     "text": [
      "deque([1, 2, 3], maxlen=3)\n",
      "None\n",
      "deque([2, 3, 8], maxlen=3)\n",
      "deque([8, 9, 10], maxlen=3)\n"
     ]
    }
   ],
   "source": [
    "limited.extend([1,2,3])\n",
    "print(limited)\n",
    "\n",
    "print(limited.append(8)) # такая конструкция не возвращает значение, а меняет са список\n",
    "\n",
    "print(limited)\n",
    "\n",
    "limited.extend([9, 10])\n",
    "\n",
    "print(limited)"
   ]
  },
  {
   "cell_type": "code",
   "execution_count": 20,
   "id": "2dd459d4",
   "metadata": {},
   "outputs": [],
   "source": [
    "temps = [20.6, 19.4, 19.0, 19.0, 22.1,\n",
    "        22.5, 22.8, 24.1, 25.6, 27.0,\n",
    "        27.0, 25.6, 26.8, 27.3, 22.5,\n",
    "        25.4, 24.4, 23.7, 23.6, 22.6,\n",
    "        20.4, 17.9, 17.3, 17.3, 18.1,\n",
    "        20.1, 22.2, 19.8, 21.3, 21.3,\n",
    "        21.9]"
   ]
  },
  {
   "cell_type": "code",
   "execution_count": 21,
   "id": "3b60aa52",
   "metadata": {},
   "outputs": [
    {
     "name": "stdout",
     "output_type": "stream",
     "text": [
      "20.77; 21.27; 22.16; 23.3; 24.44; 24.94; 25.56; 26.2; 25.97; 25.94; 25.57; 25.1; 24.81; 24.21; 23.23; 22.57; 21.41; 20.4; 19.6; 19.1; 19.04; 18.96; 19.44; 20.01; 20.67; "
     ]
    }
   ],
   "source": [
    "days = deque(maxlen=7)\n",
    " \n",
    "for temp in temps:\n",
    "    days.append(temp)\n",
    "    if len(days) == days.maxlen:\n",
    "        print(round(sum(days) / len(days), 2), end='; ')"
   ]
  },
  {
   "cell_type": "markdown",
   "id": "f7eacc63",
   "metadata": {},
   "source": [
    "reverse, remove, rotate"
   ]
  },
  {
   "cell_type": "code",
   "execution_count": 22,
   "id": "1b6c44db",
   "metadata": {},
   "outputs": [
    {
     "name": "stdout",
     "output_type": "stream",
     "text": [
      "deque([1, 2, 3, 4, 5])\n",
      "deque([5, 4, 3, 2, 1])\n",
      "deque([5, 4, 3, 2])\n"
     ]
    }
   ],
   "source": [
    "dq_1 = deque([1, 2, 3, 4, 5])\n",
    "print(dq_1)\n",
    "\n",
    "dq_1.reverse()\n",
    "print(dq_1)\n",
    "\n",
    "dq_1.remove(1)\n",
    "print(dq_1)"
   ]
  },
  {
   "cell_type": "code",
   "execution_count": 23,
   "id": "f73397c1",
   "metadata": {},
   "outputs": [
    {
     "name": "stdout",
     "output_type": "stream",
     "text": [
      "deque([1, 2, 3, 4, 5])\n",
      "deque([3, 4, 5, 1, 2])\n"
     ]
    }
   ],
   "source": [
    "dq_2 = deque(list(range(1, 6)))\n",
    "print(dq_2)\n",
    "\n",
    "dq_2.rotate(3)\n",
    "print(dq_2)"
   ]
  },
  {
   "cell_type": "code",
   "execution_count": 24,
   "id": "a84be284",
   "metadata": {},
   "outputs": [
    {
     "name": "stdout",
     "output_type": "stream",
     "text": [
      "deque([1, 2, 3, 4, 5])\n"
     ]
    }
   ],
   "source": [
    "dq_2.rotate(-3)\n",
    "print(dq_2)"
   ]
  },
  {
   "cell_type": "code",
   "execution_count": 25,
   "id": "6e7663b3",
   "metadata": {},
   "outputs": [
    {
     "name": "stdout",
     "output_type": "stream",
     "text": [
      "deque([1, 2, 3, 4, 5])\n",
      "deque([-1, -2, -3, 1, 2, 3, 4, 5])\n"
     ]
    }
   ],
   "source": [
    "dq_3 = deque(list(range(1, 6)))\n",
    "print(dq_3)\n",
    "\n",
    "dq_3.extendleft([-3, -2, -1])\n",
    "print(dq_3)"
   ]
  },
  {
   "cell_type": "code",
   "execution_count": 26,
   "id": "2f1ea02c",
   "metadata": {},
   "outputs": [
    {
     "name": "stdout",
     "output_type": "stream",
     "text": [
      "deque([3, 4, 5, -1, -2, -3, 1, 2])\n"
     ]
    }
   ],
   "source": [
    "dq_3.rotate(3)\n",
    "print(dq_3)"
   ]
  },
  {
   "cell_type": "markdown",
   "id": "7ceaaf49",
   "metadata": {},
   "source": [
    "index & count"
   ]
  },
  {
   "cell_type": "code",
   "execution_count": 27,
   "id": "8a7e71a6",
   "metadata": {},
   "outputs": [
    {
     "name": "stdout",
     "output_type": "stream",
     "text": [
      "2\n",
      "6\n",
      "25 is not in list\n",
      "0\n"
     ]
    }
   ],
   "source": [
    "dq = [1,2,4,2,3,1,5,4,4,4,4,4,3]\n",
    "print(dq.index(4)) # найти первый индекс искомого элемента\n",
    "print(dq.count(4)) # позволяет подсчитать, сколько раз элемент встретился в очереди\n",
    "try:\n",
    "    print(dq.index(25)) # поиск индекса несуществующего элмента\n",
    "except ValueError:\n",
    "    print('25 is not in list')\n",
    "print(dq.count(25)) # считать кол-во несуществующего элемента\n"
   ]
  },
  {
   "cell_type": "code",
   "execution_count": 28,
   "id": "e1191270",
   "metadata": {},
   "outputs": [
    {
     "name": "stdout",
     "output_type": "stream",
     "text": [
      "[]\n"
     ]
    }
   ],
   "source": [
    "dq.clear()\n",
    "print(dq)"
   ]
  },
  {
   "cell_type": "markdown",
   "id": "ccce3f15",
   "metadata": {},
   "source": [
    "В этом уроке вы узнали два новых объекта из модуля collections: OrderedDict и deque.\n",
    "\n",
    "Первый объект нужен чаще всего для корректной работы словарей в старых версиях Python в тех случаях, когда важно сохранить ключи в порядке их добавления в словарь. Дек (deque) объединяет в себе возможности как очереди, так и стека. Эта структура данных может пригодиться вам при решении различных задач, в которых потребуется функционал очереди или стека."
   ]
  }
 ],
 "metadata": {
  "kernelspec": {
   "display_name": "Python 3",
   "language": "python",
   "name": "python3"
  },
  "language_info": {
   "codemirror_mode": {
    "name": "ipython",
    "version": 3
   },
   "file_extension": ".py",
   "mimetype": "text/x-python",
   "name": "python",
   "nbconvert_exporter": "python",
   "pygments_lexer": "ipython3",
   "version": "3.13.1"
  }
 },
 "nbformat": 4,
 "nbformat_minor": 5
}

{
 "cells": [
  {
   "cell_type": "markdown",
   "id": "a758d96a",
   "metadata": {},
   "source": [
    "# Модуль NumPy. Массивы"
   ]
  },
  {
   "cell_type": "markdown",
   "id": "53edde80",
   "metadata": {},
   "source": [
    "МАССИВ — это структура данных, в которой:\n",
    "1. Элементы хранятся в указанном порядке.\n",
    "2. Каждый элемент можно получить по индексу за одинаковое время.\n",
    "3. Все элементы приведены к одному и тому же типу данных.\n",
    "4. Максимальное число элементов и объём выделенной памяти заданы заранее (программистом и/или компьютером)"
   ]
  },
  {
   "cell_type": "markdown",
   "id": "0a4c8081",
   "metadata": {},
   "source": [
    "__Размерностью массива__ называют то число индексов, которое необходимо для однозначного получения элемента из массива.\n",
    "- соответственно, чтобы найти элемент в массиве размерности 1 (строка из чисел) достаточно одного индекса.\n",
    "- В двумерном массиве (таблице из чисел) потребуется уже два индекса: номер строки и номер столбца.\n",
    "- Для трёхмерного массива (например, контейнеры на судне расположены по длине, ширине и высоте судна) потребуется уже три индекса.\n",
    ">Максимальная размерность массива программно не ограничена, но с добавлением каждой размерности в несколько раз увеличивается объём требуемой для его хранения памяти. Поэтому в какой-то момент места для массива большой размерности может не хватить, однако фактическая максимальная размерность зависит от возможностей компьютера."
   ]
  },
  {
   "cell_type": "markdown",
   "id": "b18a6587",
   "metadata": {},
   "source": [
    "__Форма (структура) массива__ — это информация о количестве размерностей массива и протяжённости массива по каждой из размерностей. Например, можно задать двумерный массив размера 3x5 — у этой таблицы две размерности: 3 строки и 5 столбцов."
   ]
  },
  {
   "cell_type": "markdown",
   "id": "8de6c3f4",
   "metadata": {},
   "source": [
    "## Массивы в Numpy"
   ]
  },
  {
   "cell_type": "markdown",
   "id": "d1d340a5",
   "metadata": {},
   "source": [
    "### 1. Создание массива из списка"
   ]
  },
  {
   "cell_type": "code",
   "execution_count": null,
   "id": "a08eebdd",
   "metadata": {},
   "outputs": [
    {
     "data": {
      "text/plain": [
       "array([ 1,  5,  2,  9, 10])"
      ]
     },
     "execution_count": 5,
     "metadata": {},
     "output_type": "execute_result"
    }
   ],
   "source": [
    "import numpy as np\n",
    "arr = np.array([1,5,2,9,10])\n",
    "arr "
   ]
  },
  {
   "cell_type": "code",
   "execution_count": null,
   "id": "19fe0bd6",
   "metadata": {},
   "outputs": [
    {
     "name": "stdout",
     "output_type": "stream",
     "text": [
      "[ 1  5  2  9 10]\n"
     ]
    }
   ],
   "source": [
    "print(arr) # пример вывода без print (выше) и с print"
   ]
  },
  {
   "cell_type": "code",
   "execution_count": null,
   "id": "7dd1bbd4",
   "metadata": {},
   "outputs": [
    {
     "name": "stdout",
     "output_type": "stream",
     "text": [
      "<class 'numpy.ndarray'>\n"
     ]
    }
   ],
   "source": [
    "print(type(arr))\n",
    "# Название ndarray — это сокращение от n-dimensional array, n-мерный массив."
   ]
  },
  {
   "cell_type": "code",
   "execution_count": 9,
   "id": "ed4d37b8",
   "metadata": {},
   "outputs": [
    {
     "data": {
      "text/plain": [
       "array([[12, 45, 78],\n",
       "       [34, 56, 13],\n",
       "       [12, 98, 76]])"
      ]
     },
     "execution_count": 9,
     "metadata": {},
     "output_type": "execute_result"
    }
   ],
   "source": [
    "nd_arr = np.array([\n",
    "               [12, 45, 78],\n",
    "               [34, 56, 13],\n",
    "               [12, 98, 76]\n",
    "               ])\n",
    "nd_arr"
   ]
  },
  {
   "cell_type": "code",
   "execution_count": null,
   "id": "0f45e3a4",
   "metadata": {},
   "outputs": [
    {
     "name": "stdout",
     "output_type": "stream",
     "text": [
      "[[12 45 78]\n",
      " [34 56 13]\n",
      " [12 98 76]]\n"
     ]
    }
   ],
   "source": [
    "print(nd_arr) # пример вывода без print (выше) и с print"
   ]
  },
  {
   "cell_type": "markdown",
   "id": "d02b0d23",
   "metadata": {},
   "source": [
    "## 2. Типы данных в массиве"
   ]
  },
  {
   "cell_type": "code",
   "execution_count": null,
   "id": "67552aef",
   "metadata": {},
   "outputs": [
    {
     "data": {
      "text/plain": [
       "dtype('int64')"
      ]
     },
     "execution_count": 21,
     "metadata": {},
     "output_type": "execute_result"
    }
   ],
   "source": [
    "arr = np.array([1,5,2,9,10])\n",
    "arr.dtype\n",
    "# NumPy автоматически определил наш набор чисел как числа типа int64."
   ]
  },
  {
   "cell_type": "code",
   "execution_count": 25,
   "id": "199d6494",
   "metadata": {},
   "outputs": [
    {
     "data": {
      "text/plain": [
       "array([ 1,  5,  2,  9, 10], dtype=int8)"
      ]
     },
     "execution_count": 25,
     "metadata": {},
     "output_type": "execute_result"
    }
   ],
   "source": [
    "arr = np.array([1,5,2,9,10], dtype=np.int8)\n",
    "arr"
   ]
  },
  {
   "cell_type": "code",
   "execution_count": 23,
   "id": "a19058d8",
   "metadata": {},
   "outputs": [
    {
     "name": "stdout",
     "output_type": "stream",
     "text": [
      "[ 1  5  2  9 10]\n"
     ]
    }
   ],
   "source": [
    "print(arr) # пример вывода без print (выше) и с print"
   ]
  },
  {
   "cell_type": "code",
   "execution_count": null,
   "id": "52f61d50",
   "metadata": {},
   "outputs": [
    {
     "data": {
      "text/plain": [
       "array([  1,   5, -48,   9,  10], dtype=int8)"
      ]
     },
     "execution_count": 28,
     "metadata": {},
     "output_type": "execute_result"
    }
   ],
   "source": [
    "arr[2] = 2000 % -128 # -128 - это мин знач для np.int8\n",
    "arr"
   ]
  },
  {
   "cell_type": "code",
   "execution_count": 29,
   "id": "1821611b",
   "metadata": {},
   "outputs": [
    {
     "data": {
      "text/plain": [
       "array([  1,   5, 125,   9,  10], dtype=int8)"
      ]
     },
     "execution_count": 29,
     "metadata": {},
     "output_type": "execute_result"
    }
   ],
   "source": [
    "arr[2] = 125.5\n",
    "arr"
   ]
  },
  {
   "cell_type": "code",
   "execution_count": null,
   "id": "312d31f9",
   "metadata": {},
   "outputs": [
    {
     "data": {
      "text/plain": [
       "array([ 1,  5, 12,  9, 10], dtype=int8)"
      ]
     },
     "execution_count": 30,
     "metadata": {},
     "output_type": "execute_result"
    }
   ],
   "source": [
    "# Строку, которую можно преобразовать в число, можно сразу положить в массив. Она будет приведена к нужному типу автоматически:\n",
    "arr[2] = '12'\n",
    "arr"
   ]
  },
  {
   "cell_type": "code",
   "execution_count": 31,
   "id": "ef8cbe96",
   "metadata": {},
   "outputs": [
    {
     "ename": "ValueError",
     "evalue": "invalid literal for int() with base 10: 'test'",
     "output_type": "error",
     "traceback": [
      "\u001b[31m---------------------------------------------------------------------------\u001b[39m",
      "\u001b[31mValueError\u001b[39m                                Traceback (most recent call last)",
      "\u001b[36mCell\u001b[39m\u001b[36m \u001b[39m\u001b[32mIn[31]\u001b[39m\u001b[32m, line 1\u001b[39m\n\u001b[32m----> \u001b[39m\u001b[32m1\u001b[39m \u001b[43marr\u001b[49m\u001b[43m[\u001b[49m\u001b[32;43m2\u001b[39;49m\u001b[43m]\u001b[49m = \u001b[33m'\u001b[39m\u001b[33mtest\u001b[39m\u001b[33m'\u001b[39m\n\u001b[32m      2\u001b[39m arr\n",
      "\u001b[31mValueError\u001b[39m: invalid literal for int() with base 10: 'test'"
     ]
    }
   ],
   "source": [
    "arr[2] = 'test'\n",
    "arr"
   ]
  },
  {
   "cell_type": "code",
   "execution_count": 33,
   "id": "ad896c20",
   "metadata": {},
   "outputs": [
    {
     "data": {
      "text/plain": [
       "array([ 1.,  5., 12.,  9., 10.])"
      ]
     },
     "execution_count": 33,
     "metadata": {},
     "output_type": "execute_result"
    }
   ],
   "source": [
    "arr = np.float64(arr)\n",
    "arr"
   ]
  },
  {
   "cell_type": "markdown",
   "id": "36884900",
   "metadata": {},
   "source": [
    ">>При преобразовании типов данных в массиве не забывайте о том, что часть чисел может потерять смысл, если менять тип данных с более ёмкого на менее ёмкий:"
   ]
  },
  {
   "cell_type": "code",
   "execution_count": null,
   "id": "6e07e887",
   "metadata": {},
   "outputs": [
    {
     "data": {
      "text/plain": [
       "array([12321, -1234,  3435,  -214,   100], dtype=int32)"
      ]
     },
     "execution_count": 36,
     "metadata": {},
     "output_type": "execute_result"
    }
   ],
   "source": [
    "arr = np.array([12321, -1234, 3435, -214, 100], dtype=np.int32)\n",
    "arr"
   ]
  },
  {
   "cell_type": "code",
   "execution_count": 37,
   "id": "f2d4e17e",
   "metadata": {},
   "outputs": [
    {
     "data": {
      "text/plain": [
       "array([ 33,  46, 107,  42, 100], dtype=uint8)"
      ]
     },
     "execution_count": 37,
     "metadata": {},
     "output_type": "execute_result"
    }
   ],
   "source": [
    "arr = np.uint8(arr)\n",
    "arr"
   ]
  },
  {
   "cell_type": "markdown",
   "id": "6d7b1008",
   "metadata": {},
   "source": [
    "## 3. Свойства NumPy-массивов"
   ]
  },
  {
   "cell_type": "code",
   "execution_count": 58,
   "id": "a119ebe9",
   "metadata": {},
   "outputs": [],
   "source": [
    "arr = np.array([1,5,2,9,10], dtype=np.int8)\n",
    "nd_arr = np.array([\n",
    "               [12, 45, 78],\n",
    "               [34, 56, 13],\n",
    "               [12, 98, 76]\n",
    "               ], dtype=np.int16)"
   ]
  },
  {
   "cell_type": "markdown",
   "id": "571b763e",
   "metadata": {},
   "source": [
    "1. Размерность массива"
   ]
  },
  {
   "cell_type": "code",
   "execution_count": 59,
   "id": "5a7f2289",
   "metadata": {},
   "outputs": [
    {
     "data": {
      "text/plain": [
       "1"
      ]
     },
     "execution_count": 59,
     "metadata": {},
     "output_type": "execute_result"
    }
   ],
   "source": [
    "arr.ndim\n",
    "# одномерный "
   ]
  },
  {
   "cell_type": "code",
   "execution_count": 60,
   "id": "61a141f1",
   "metadata": {},
   "outputs": [
    {
     "data": {
      "text/plain": [
       "2"
      ]
     },
     "execution_count": 60,
     "metadata": {},
     "output_type": "execute_result"
    }
   ],
   "source": [
    "nd_arr.ndim\n",
    "# двумерный"
   ]
  },
  {
   "cell_type": "markdown",
   "id": "081b59de",
   "metadata": {},
   "source": [
    "2. Общее число (кол-во) элементолв в массиве"
   ]
  },
  {
   "cell_type": "code",
   "execution_count": 61,
   "id": "3f0bba14",
   "metadata": {},
   "outputs": [
    {
     "data": {
      "text/plain": [
       "5"
      ]
     },
     "execution_count": 61,
     "metadata": {},
     "output_type": "execute_result"
    }
   ],
   "source": [
    "arr.size"
   ]
  },
  {
   "cell_type": "code",
   "execution_count": 62,
   "id": "3984840f",
   "metadata": {},
   "outputs": [
    {
     "data": {
      "text/plain": [
       "9"
      ]
     },
     "execution_count": 62,
     "metadata": {},
     "output_type": "execute_result"
    }
   ],
   "source": [
    "nd_arr.size"
   ]
  },
  {
   "cell_type": "markdown",
   "id": "a7ef5fde",
   "metadata": {},
   "source": [
    "3. Форма или структура массива"
   ]
  },
  {
   "cell_type": "code",
   "execution_count": 63,
   "id": "eea5f6b2",
   "metadata": {},
   "outputs": [
    {
     "data": {
      "text/plain": [
       "(5,)"
      ]
     },
     "execution_count": 63,
     "metadata": {},
     "output_type": "execute_result"
    }
   ],
   "source": [
    "arr.shape"
   ]
  },
  {
   "cell_type": "code",
   "execution_count": 64,
   "id": "a75cc33f",
   "metadata": {},
   "outputs": [
    {
     "data": {
      "text/plain": [
       "(3, 3)"
      ]
     },
     "execution_count": 64,
     "metadata": {},
     "output_type": "execute_result"
    }
   ],
   "source": [
    "nd_arr.shape"
   ]
  },
  {
   "cell_type": "markdown",
   "id": "1871e33b",
   "metadata": {},
   "source": [
    "4. Размер (\"вес\") каждого элемента в массиве (сколько байт)"
   ]
  },
  {
   "cell_type": "code",
   "execution_count": 65,
   "id": "c7498a1f",
   "metadata": {},
   "outputs": [
    {
     "data": {
      "text/plain": [
       "1"
      ]
     },
     "execution_count": 65,
     "metadata": {},
     "output_type": "execute_result"
    }
   ],
   "source": [
    "arr.itemsize"
   ]
  },
  {
   "cell_type": "code",
   "execution_count": 66,
   "id": "cd9f60b3",
   "metadata": {},
   "outputs": [
    {
     "data": {
      "text/plain": [
       "2"
      ]
     },
     "execution_count": 66,
     "metadata": {},
     "output_type": "execute_result"
    }
   ],
   "source": [
    "nd_arr.itemsize"
   ]
  },
  {
   "cell_type": "markdown",
   "id": "d0653675",
   "metadata": {},
   "source": [
    "## 4. Заполнение новых массивов"
   ]
  },
  {
   "cell_type": "markdown",
   "id": "50fee773",
   "metadata": {},
   "source": [
    "→ Не всегда значения, которые будут храниться в массиве, уже доступны, а иметь для них массив уже хочется."
   ]
  },
  {
   "cell_type": "markdown",
   "id": "de599e09",
   "metadata": {},
   "source": [
    "- нулевой массив"
   ]
  },
  {
   "cell_type": "code",
   "execution_count": 85,
   "id": "9fe4ecc7",
   "metadata": {},
   "outputs": [
    {
     "data": {
      "text/plain": [
       "array([0., 0., 0., 0., 0.])"
      ]
     },
     "execution_count": 85,
     "metadata": {},
     "output_type": "execute_result"
    }
   ],
   "source": [
    "zeros_1d = np.zeros(5)\n",
    "zeros_1d"
   ]
  },
  {
   "cell_type": "code",
   "execution_count": 86,
   "id": "dff8dfd4",
   "metadata": {},
   "outputs": [
    {
     "data": {
      "text/plain": [
       "array([[0, 0, 0],\n",
       "       [0, 0, 0],\n",
       "       [0, 0, 0],\n",
       "       [0, 0, 0],\n",
       "       [0, 0, 0]], dtype=int8)"
      ]
     },
     "execution_count": 86,
     "metadata": {},
     "output_type": "execute_result"
    }
   ],
   "source": [
    "zeros_2d = np.zeros((5, 3), dtype=np.int8)\n",
    "zeros_2d"
   ]
  },
  {
   "cell_type": "code",
   "execution_count": 87,
   "id": "3ed6c48b",
   "metadata": {},
   "outputs": [
    {
     "data": {
      "text/plain": [
       "(5, 4, 3)"
      ]
     },
     "execution_count": 87,
     "metadata": {},
     "output_type": "execute_result"
    }
   ],
   "source": [
    "zeros_3d = np.zeros((5, 4, 3), dtype=np.float32)\n",
    "zeros_3d.shape"
   ]
  },
  {
   "cell_type": "code",
   "execution_count": 88,
   "id": "9c51db3b",
   "metadata": {},
   "outputs": [
    {
     "data": {
      "text/plain": [
       "array([[[0., 0., 0.],\n",
       "        [0., 0., 0.],\n",
       "        [0., 0., 0.],\n",
       "        [0., 0., 0.]],\n",
       "\n",
       "       [[0., 0., 0.],\n",
       "        [0., 0., 0.],\n",
       "        [0., 0., 0.],\n",
       "        [0., 0., 0.]],\n",
       "\n",
       "       [[0., 0., 0.],\n",
       "        [0., 0., 0.],\n",
       "        [0., 0., 0.],\n",
       "        [0., 0., 0.]],\n",
       "\n",
       "       [[0., 0., 0.],\n",
       "        [0., 0., 0.],\n",
       "        [0., 0., 0.],\n",
       "        [0., 0., 0.]],\n",
       "\n",
       "       [[0., 0., 0.],\n",
       "        [0., 0., 0.],\n",
       "        [0., 0., 0.],\n",
       "        [0., 0., 0.]]], dtype=float32)"
      ]
     },
     "execution_count": 88,
     "metadata": {},
     "output_type": "execute_result"
    }
   ],
   "source": [
    "zeros_3d = np.zeros((5, 4, 3), dtype=np.float32)\n",
    "zeros_3d"
   ]
  },
  {
   "cell_type": "markdown",
   "id": "f90cec13",
   "metadata": {},
   "source": [
    "- удобные функции для создания одномерных массивов"
   ]
  },
  {
   "cell_type": "markdown",
   "id": "cace729a",
   "metadata": {},
   "source": [
    ">в отличие от __range__, в функции __arange__ все параметры могут быть float "
   ]
  },
  {
   "cell_type": "code",
   "execution_count": 89,
   "id": "759c2b94",
   "metadata": {},
   "outputs": [
    {
     "data": {
      "text/plain": [
       "array([0, 1, 2, 3, 4])"
      ]
     },
     "execution_count": 89,
     "metadata": {},
     "output_type": "execute_result"
    }
   ],
   "source": [
    "np.arange(5)"
   ]
  },
  {
   "cell_type": "code",
   "execution_count": 90,
   "id": "292cf6d3",
   "metadata": {},
   "outputs": [
    {
     "data": {
      "text/plain": [
       "array([2.5, 3.5, 4.5])"
      ]
     },
     "execution_count": 90,
     "metadata": {},
     "output_type": "execute_result"
    }
   ],
   "source": [
    "np.arange(2.5, 5)"
   ]
  },
  {
   "cell_type": "code",
   "execution_count": 91,
   "id": "7daab0c2",
   "metadata": {},
   "outputs": [
    {
     "data": {
      "text/plain": [
       "array([2.5, 3. , 3.5, 4. , 4.5])"
      ]
     },
     "execution_count": 91,
     "metadata": {},
     "output_type": "execute_result"
    }
   ],
   "source": [
    "np.arange(2.5, 5, 0.5)"
   ]
  },
  {
   "cell_type": "code",
   "execution_count": 92,
   "id": "ff533585",
   "metadata": {},
   "outputs": [
    {
     "data": {
      "text/plain": [
       "array([2.5, 3. , 3.5, 4. , 4.5, 5. ])"
      ]
     },
     "execution_count": 92,
     "metadata": {},
     "output_type": "execute_result"
    }
   ],
   "source": [
    "np.arange(2.5, 5.5, 0.5)"
   ]
  },
  {
   "cell_type": "code",
   "execution_count": 93,
   "id": "bdd630fa",
   "metadata": {},
   "outputs": [
    {
     "data": {
      "text/plain": [
       "array([2.5, 3. , 3.5, 4. , 4.5], dtype=float16)"
      ]
     },
     "execution_count": 93,
     "metadata": {},
     "output_type": "execute_result"
    }
   ],
   "source": [
    "np.arange(2.5, 5, 0.5, dtype=np.float16)"
   ]
  },
  {
   "cell_type": "markdown",
   "id": "84ac9890",
   "metadata": {},
   "source": [
    ">> Операции с плавающей точкой не всегда бывают предсказуемыми из-за особенностей хранения таких чисел в памяти компьютера. Поэтому в __arange__  не рекомендуется использовать float"
   ]
  },
  {
   "cell_type": "markdown",
   "id": "c47827fa",
   "metadata": {},
   "source": [
    "Для работы с дробными параметрами start, stop и step лучше использовать функцию ___linspace___ (англ. linear space — линейное пространство). Она тоже возвращает одномерный массив из чисел, расположенных на равном удалении друг от друга между началом и концом диапазона, но обладает немного другим поведением и сигнатурой:"
   ]
  },
  {
   "cell_type": "markdown",
   "id": "197b0c30",
   "metadata": {},
   "source": [
    "__np.linspace (start, stop, num=50, endpoint=True, retstep=False, dtype=None)__"
   ]
  },
  {
   "cell_type": "markdown",
   "id": "20744330",
   "metadata": {},
   "source": [
    "- start и stop являются обязательными параметрами, задающими начало и конец возвращаемого диапазона;\n",
    "- num — параметр, задающий число элементов, которое должно оказаться в массиве (по умолчанию 50);\n",
    "- endpoint — включён или исключён конец диапазона (по умолчанию включён);\n",
    "- retstep (по умолчанию False) позволяет указать, возвращать ли использованный шаг между значениями, помимо самого массива;\n",
    "- dtype — уже хорошо знакомый нам параметр, задающий тип данных (если не задан, определяется автоматически).\n"
   ]
  },
  {
   "cell_type": "code",
   "execution_count": null,
   "id": "ba661d48",
   "metadata": {},
   "outputs": [],
   "source": []
  }
 ],
 "metadata": {
  "kernelspec": {
   "display_name": "Python 3",
   "language": "python",
   "name": "python3"
  },
  "language_info": {
   "codemirror_mode": {
    "name": "ipython",
    "version": 3
   },
   "file_extension": ".py",
   "mimetype": "text/x-python",
   "name": "python",
   "nbconvert_exporter": "python",
   "pygments_lexer": "ipython3",
   "version": "3.13.1"
  }
 },
 "nbformat": 4,
 "nbformat_minor": 5
}
